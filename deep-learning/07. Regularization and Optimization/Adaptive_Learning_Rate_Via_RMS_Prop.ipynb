{
  "nbformat": 4,
  "nbformat_minor": 0,
  "metadata": {
    "colab": {
      "provenance": []
    },
    "kernelspec": {
      "name": "python3",
      "display_name": "Python 3"
    },
    "language_info": {
      "name": "python"
    }
  },
  "cells": [
    {
      "cell_type": "markdown",
      "source": [
        "## Adaptive Learning Rate via RMSProp\n",
        "\n",
        "\n",
        "Basically the main idea is divide the learning rate by an exponentially decreasing moving avg of the squared gradients"
      ],
      "metadata": {
        "id": "-XJLU-mqbbiq"
      }
    },
    {
      "cell_type": "code",
      "source": [
        "import torch\n",
        "import torch.nn.functional as F\n",
        "from torch.autograd import grad\n",
        "import pandas as pd\n",
        "import matplotlib.pyplot as plt\n",
        "import numpy as np"
      ],
      "metadata": {
        "id": "-4GcliZM3R1N"
      },
      "execution_count": 1,
      "outputs": []
    },
    {
      "cell_type": "code",
      "source": [
        "df = pd.read_csv('/content/linreg-data.csv', index_col=0)\n",
        "\n",
        "X = torch.tensor(df[['x1', 'x2']].values, dtype=torch.float)\n",
        "y = torch.tensor(df['y'].values, dtype=torch.float)\n",
        "\n",
        "torch.manual_seed(123)\n",
        "\n",
        "shuffle_idx=torch.randperm(X.shape[0],dtype=torch.long)\n",
        "\n",
        "X=X[shuffle_idx]\n",
        "y=y[shuffle_idx]\n",
        "\n",
        "percent70=int(X.shape[0]*0.7)\n",
        "\n",
        "X_train=X[:percent70]\n",
        "y_train=y[:percent70]\n",
        "\n",
        "X_test=X[percent70:]\n",
        "y_test=y[percent70:]\n",
        "\n",
        "mu, sigma = X_train.mean(dim=0), X_train.std(dim=0)\n",
        "X_train = (X_train - mu) / sigma\n",
        "X_test = (X_test - mu) / sigma"
      ],
      "metadata": {
        "id": "r8SGcd-z5EqN"
      },
      "execution_count": 2,
      "outputs": []
    },
    {
      "cell_type": "markdown",
      "source": [
        " Below is an implementation of Linear Regression where we have used normal SGD\n"
      ],
      "metadata": {
        "id": "YEQn9vdM3yOb"
      }
    },
    {
      "cell_type": "code",
      "source": [
        "class LinearRegression01(torch.nn.Module):\n",
        "\n",
        "  def __init__(self,num_features):\n",
        "    super(LinearRegression01, self).__init__()\n",
        "    self.linear = torch.nn.Linear(num_features, 1)\n",
        "\n",
        "\n",
        "    self.linear.weight.detach().zero_()\n",
        "    self.linear.bias.detach().zero_()\n",
        "\n",
        "\n",
        "  def forward(self,X):\n",
        "\n",
        "    return self.linear(X).reshape(-1)\n",
        "\n",
        "  def train(self,X,y,epochs,lr=0.01,minibatch_size=10):\n",
        "\n",
        "    torch.manual_seed(120)\n",
        "    loss=[]\n",
        "    optimizer = torch.optim.SGD(self.parameters(), lr=lr)\n",
        "\n",
        "    for epoch in range(epochs):\n",
        "      shuffle_idx=torch.randperm(X.shape[0],dtype=torch.long)\n",
        "      minibatch_indices=torch.split(shuffle_idx,minibatch_size)\n",
        "      for minibatch_idx in minibatch_indices:\n",
        "        y_pred=self.forward(X[minibatch_idx])\n",
        "        mse=F.mse_loss(y_pred, y[minibatch_idx])\n",
        "\n",
        "        optimizer.zero_grad()\n",
        "        mse.backward()\n",
        "        optimizer.step()\n",
        "\n",
        "      with torch.no_grad():\n",
        "\n",
        "        preds=self.forward(X)\n",
        "        curr_loss=torch.mean((y-preds)**2)\n",
        "        print(f'Epoch: {epoch+1}, Loss: {curr_loss}')\n",
        "        loss.append(curr_loss)\n",
        "    return loss"
      ],
      "metadata": {
        "id": "5TLzYVgW2ce-"
      },
      "execution_count": 3,
      "outputs": []
    },
    {
      "cell_type": "markdown",
      "source": [
        "## Below is an implementation of Linear Regression with RMSprop\n",
        "\n",
        "\n",
        "In simple terms, RMSprop adapts the learning rate for each parameter, reducing the learning rate for parameters with larger gradients and increasing it for those with smaller gradients. This helps to stabilize training and prevent overshooting.\n",
        "\n",
        "### Key Concepts:\n",
        "- **mean_square_w** and **mean_square_b** are the **mean squared gradients** for the weights and bias. These terms accumulate the squared gradients over time, helping to scale the updates.\n",
        "  \n",
        "- **beta** is the **decay factor**, which controls the weighting of past squared gradients. The larger the beta, the slower the decay, which means the algorithm retains more information from previous gradients.\n",
        "\n",
        "- **epsilon** is a small constant added for numerical stability to avoid division by zero when normalizing the gradients.\n",
        "\n",
        "### Equations:\n",
        "1. **Mean Squared Gradient Update**:\n",
        "\n",
        "   mean_square_w = beta * mean_square_w + (1 - beta) * (grad_w^2)  \n",
        "   mean_square_b = beta * mean_square_b + (1 - beta) * (grad_b^2)  \n",
        "\n",
        "   Where:\n",
        "   - mean_square_w, mean_square_b are the running averages of the squared gradients for the weights and bias.\n",
        "   - beta is the decay factor.\n",
        "   - grad_w, grad_b are the gradients of the loss with respect to weights and bias.\n",
        "\n",
        "2. **Parameter Update**:\n",
        "\n",
        "   w = w - lr * grad_w / sqrt(mean_square_w + epsilon)  \n",
        "   b = b - lr * grad_b / sqrt(mean_square_b + epsilon)  \n",
        "\n",
        "   Where:\n",
        "   - w, b are the weight and bias parameters.\n",
        "   - lr is the learning rate.\n",
        "   - epsilon is a small constant added for numerical stability."
      ],
      "metadata": {
        "id": "pn-RL0z_4sXq"
      }
    },
    {
      "cell_type": "code",
      "source": [
        "class LinearRegression02(torch.nn.Module):\n",
        "\n",
        "  def __init__(self,num_features):\n",
        "    super(LinearRegression02, self).__init__()\n",
        "    self.linear = torch.nn.Linear(num_features, 1)\n",
        "\n",
        "    self.linear.weight.detach().zero_()\n",
        "    self.linear.bias.detach().zero_()\n",
        "\n",
        "\n",
        "  def forward(self,X):\n",
        "\n",
        "    return self.linear(X).reshape(-1)\n",
        "\n",
        "  def train(self,X,y,epochs,lr=0.01,minibatch_size=10,beta=0.9):\n",
        "    torch.manual_seed(120)\n",
        "    loss=[]\n",
        "    epsilon=1e-10\n",
        "\n",
        "    mean_square_w=torch.zeros_like(self.linear.weight)\n",
        "    mean_square_b=torch.zeros_like(self.linear.bias)\n",
        "    for epoch in range(epochs):\n",
        "      shuffle_idx=torch.randperm(X.shape[0],dtype=torch.long)\n",
        "      minibatch_indices=torch.split(shuffle_idx,minibatch_size)\n",
        "      for minibatch_idx in minibatch_indices:\n",
        "        y_pred=self.forward(X[minibatch_idx])\n",
        "        mse=F.mse_loss(y_pred, y[minibatch_idx])\n",
        "        grad_w=grad(mse,self.linear.weight,retain_graph=True)[0]\n",
        "        grad_b=grad(mse,self.linear.bias)[0]\n",
        "\n",
        "        mean_square_w=beta*mean_square_w+(1-beta)*(grad_w**2)\n",
        "        mean_square_b=beta*mean_square_b+(1-beta)*(grad_b**2)\n",
        "\n",
        "        with torch.no_grad():\n",
        "          self.linear.weight-=lr*grad_w/torch.sqrt(mean_square_w+epsilon)\n",
        "          self.linear.bias-=lr*grad_b/torch.sqrt(mean_square_b+epsilon)\n",
        "\n",
        "      with torch.no_grad():\n",
        "        preds=self.forward(X)\n",
        "        epoch_loss=F.mse_loss(preds, y)\n",
        "        print(f'Epoch: {epoch+1}, Loss: {epoch_loss}')\n",
        "        loss.append(epoch_loss)\n",
        "    return loss\n",
        "\n",
        "\n",
        "\n",
        "\n"
      ],
      "metadata": {
        "id": "Y3boEOHJ33yx"
      },
      "execution_count": 4,
      "outputs": []
    },
    {
      "cell_type": "code",
      "source": [
        "linear_regression=LinearRegression01(num_features=X.shape[1])\n",
        "loss_without_rmsprop=linear_regression.train(X_train,y_train,100,lr=0.01)"
      ],
      "metadata": {
        "id": "9QOwitX448k8",
        "colab": {
          "base_uri": "https://localhost:8080/"
        },
        "collapsed": true,
        "outputId": "832ea0e1-c3a2-4bc4-81d3-f8d60f8dfa83"
      },
      "execution_count": 5,
      "outputs": [
        {
          "output_type": "stream",
          "name": "stdout",
          "text": [
            "Epoch: 1, Loss: 472.7065734863281\n",
            "Epoch: 2, Loss: 388.48199462890625\n",
            "Epoch: 3, Loss: 384.5899963378906\n",
            "Epoch: 4, Loss: 384.4708557128906\n",
            "Epoch: 5, Loss: 384.50311279296875\n",
            "Epoch: 6, Loss: 384.38348388671875\n",
            "Epoch: 7, Loss: 384.35626220703125\n",
            "Epoch: 8, Loss: 384.7010192871094\n",
            "Epoch: 9, Loss: 384.4432678222656\n",
            "Epoch: 10, Loss: 384.4690246582031\n",
            "Epoch: 11, Loss: 384.48358154296875\n",
            "Epoch: 12, Loss: 384.4710388183594\n",
            "Epoch: 13, Loss: 384.39892578125\n",
            "Epoch: 14, Loss: 384.427490234375\n",
            "Epoch: 15, Loss: 384.5412902832031\n",
            "Epoch: 16, Loss: 384.3504943847656\n",
            "Epoch: 17, Loss: 384.3441467285156\n",
            "Epoch: 18, Loss: 384.38262939453125\n",
            "Epoch: 19, Loss: 384.57110595703125\n",
            "Epoch: 20, Loss: 384.4284973144531\n",
            "Epoch: 21, Loss: 384.5216979980469\n",
            "Epoch: 22, Loss: 384.5309753417969\n",
            "Epoch: 23, Loss: 384.79119873046875\n",
            "Epoch: 24, Loss: 384.43328857421875\n",
            "Epoch: 25, Loss: 384.3867492675781\n",
            "Epoch: 26, Loss: 384.6307067871094\n",
            "Epoch: 27, Loss: 384.42572021484375\n",
            "Epoch: 28, Loss: 384.56976318359375\n",
            "Epoch: 29, Loss: 384.50238037109375\n",
            "Epoch: 30, Loss: 384.3495178222656\n",
            "Epoch: 31, Loss: 384.4927978515625\n",
            "Epoch: 32, Loss: 384.50445556640625\n",
            "Epoch: 33, Loss: 384.4669189453125\n",
            "Epoch: 34, Loss: 384.5173645019531\n",
            "Epoch: 35, Loss: 384.49761962890625\n",
            "Epoch: 36, Loss: 384.4642333984375\n",
            "Epoch: 37, Loss: 384.4377136230469\n",
            "Epoch: 38, Loss: 384.40887451171875\n",
            "Epoch: 39, Loss: 384.4545593261719\n",
            "Epoch: 40, Loss: 384.4146423339844\n",
            "Epoch: 41, Loss: 384.3868713378906\n",
            "Epoch: 42, Loss: 384.45001220703125\n",
            "Epoch: 43, Loss: 384.5572204589844\n",
            "Epoch: 44, Loss: 384.5897216796875\n",
            "Epoch: 45, Loss: 384.4257507324219\n",
            "Epoch: 46, Loss: 384.5352783203125\n",
            "Epoch: 47, Loss: 384.5549011230469\n",
            "Epoch: 48, Loss: 384.6260681152344\n",
            "Epoch: 49, Loss: 384.39593505859375\n",
            "Epoch: 50, Loss: 384.5199890136719\n",
            "Epoch: 51, Loss: 384.3885803222656\n",
            "Epoch: 52, Loss: 384.7188415527344\n",
            "Epoch: 53, Loss: 384.52838134765625\n",
            "Epoch: 54, Loss: 384.5353088378906\n",
            "Epoch: 55, Loss: 384.3566589355469\n",
            "Epoch: 56, Loss: 384.330078125\n",
            "Epoch: 57, Loss: 384.4726867675781\n",
            "Epoch: 58, Loss: 384.69464111328125\n",
            "Epoch: 59, Loss: 384.3609924316406\n",
            "Epoch: 60, Loss: 384.6806640625\n",
            "Epoch: 61, Loss: 384.56866455078125\n",
            "Epoch: 62, Loss: 384.38916015625\n",
            "Epoch: 63, Loss: 384.4574890136719\n",
            "Epoch: 64, Loss: 384.48504638671875\n",
            "Epoch: 65, Loss: 384.4356384277344\n",
            "Epoch: 66, Loss: 384.4836730957031\n",
            "Epoch: 67, Loss: 384.46856689453125\n",
            "Epoch: 68, Loss: 384.46514892578125\n",
            "Epoch: 69, Loss: 384.3670654296875\n",
            "Epoch: 70, Loss: 384.54449462890625\n",
            "Epoch: 71, Loss: 384.54156494140625\n",
            "Epoch: 72, Loss: 384.4186096191406\n",
            "Epoch: 73, Loss: 384.43048095703125\n",
            "Epoch: 74, Loss: 384.4487609863281\n",
            "Epoch: 75, Loss: 384.3752136230469\n",
            "Epoch: 76, Loss: 384.6163024902344\n",
            "Epoch: 77, Loss: 384.41241455078125\n",
            "Epoch: 78, Loss: 384.6048278808594\n",
            "Epoch: 79, Loss: 384.6431579589844\n",
            "Epoch: 80, Loss: 384.3647766113281\n",
            "Epoch: 81, Loss: 384.3772888183594\n",
            "Epoch: 82, Loss: 384.4206848144531\n",
            "Epoch: 83, Loss: 384.5551452636719\n",
            "Epoch: 84, Loss: 384.5818786621094\n",
            "Epoch: 85, Loss: 384.36083984375\n",
            "Epoch: 86, Loss: 384.5505676269531\n",
            "Epoch: 87, Loss: 384.46343994140625\n",
            "Epoch: 88, Loss: 384.4522705078125\n",
            "Epoch: 89, Loss: 384.46978759765625\n",
            "Epoch: 90, Loss: 384.5246276855469\n",
            "Epoch: 91, Loss: 384.5196533203125\n",
            "Epoch: 92, Loss: 384.380126953125\n",
            "Epoch: 93, Loss: 384.37481689453125\n",
            "Epoch: 94, Loss: 384.3313293457031\n",
            "Epoch: 95, Loss: 384.3561706542969\n",
            "Epoch: 96, Loss: 384.5845031738281\n",
            "Epoch: 97, Loss: 384.334228515625\n",
            "Epoch: 98, Loss: 384.3826904296875\n",
            "Epoch: 99, Loss: 384.3928527832031\n",
            "Epoch: 100, Loss: 384.7972717285156\n"
          ]
        }
      ]
    },
    {
      "cell_type": "code",
      "source": [
        "linear_regression_with_rmsprop=LinearRegression02(num_features=X.shape[1])\n",
        "loss_with_rmsprop=linear_regression_with_rmsprop.train(X_train,y_train,100)"
      ],
      "metadata": {
        "id": "7TNi6Pce-CRE",
        "colab": {
          "base_uri": "https://localhost:8080/"
        },
        "collapsed": true,
        "outputId": "9359135b-b385-4ccf-f40f-a5f8f2ce5994"
      },
      "execution_count": 8,
      "outputs": [
        {
          "output_type": "stream",
          "name": "stdout",
          "text": [
            "Epoch: 1, Loss: 1926.3935546875\n",
            "Epoch: 2, Loss: 1878.8282470703125\n",
            "Epoch: 3, Loss: 1830.2198486328125\n",
            "Epoch: 4, Loss: 1782.9139404296875\n",
            "Epoch: 5, Loss: 1735.8760986328125\n",
            "Epoch: 6, Loss: 1691.0323486328125\n",
            "Epoch: 7, Loss: 1645.859130859375\n",
            "Epoch: 8, Loss: 1601.2843017578125\n",
            "Epoch: 9, Loss: 1557.377685546875\n",
            "Epoch: 10, Loss: 1516.15234375\n",
            "Epoch: 11, Loss: 1474.5003662109375\n",
            "Epoch: 12, Loss: 1433.705078125\n",
            "Epoch: 13, Loss: 1392.3021240234375\n",
            "Epoch: 14, Loss: 1354.403076171875\n",
            "Epoch: 15, Loss: 1314.462158203125\n",
            "Epoch: 16, Loss: 1278.698974609375\n",
            "Epoch: 17, Loss: 1241.3746337890625\n",
            "Epoch: 18, Loss: 1205.541015625\n",
            "Epoch: 19, Loss: 1170.593505859375\n",
            "Epoch: 20, Loss: 1135.8751220703125\n",
            "Epoch: 21, Loss: 1101.0838623046875\n",
            "Epoch: 22, Loss: 1068.6778564453125\n",
            "Epoch: 23, Loss: 1036.313720703125\n",
            "Epoch: 24, Loss: 1005.7125244140625\n",
            "Epoch: 25, Loss: 974.63330078125\n",
            "Epoch: 26, Loss: 946.4483642578125\n",
            "Epoch: 27, Loss: 917.8948364257812\n",
            "Epoch: 28, Loss: 889.963134765625\n",
            "Epoch: 29, Loss: 862.0158081054688\n",
            "Epoch: 30, Loss: 835.8904418945312\n",
            "Epoch: 31, Loss: 810.19873046875\n",
            "Epoch: 32, Loss: 786.39990234375\n",
            "Epoch: 33, Loss: 761.8447265625\n",
            "Epoch: 34, Loss: 738.756103515625\n",
            "Epoch: 35, Loss: 717.1670532226562\n",
            "Epoch: 36, Loss: 695.06640625\n",
            "Epoch: 37, Loss: 674.8832397460938\n",
            "Epoch: 38, Loss: 655.280517578125\n",
            "Epoch: 39, Loss: 636.7835083007812\n",
            "Epoch: 40, Loss: 619.2976684570312\n",
            "Epoch: 41, Loss: 601.9301147460938\n",
            "Epoch: 42, Loss: 585.3672485351562\n",
            "Epoch: 43, Loss: 568.8331298828125\n",
            "Epoch: 44, Loss: 554.0818481445312\n",
            "Epoch: 45, Loss: 538.6588745117188\n",
            "Epoch: 46, Loss: 525.3009033203125\n",
            "Epoch: 47, Loss: 512.2103881835938\n",
            "Epoch: 48, Loss: 499.6376037597656\n",
            "Epoch: 49, Loss: 488.7623596191406\n",
            "Epoch: 50, Loss: 477.89556884765625\n",
            "Epoch: 51, Loss: 467.80340576171875\n",
            "Epoch: 52, Loss: 459.3016052246094\n",
            "Epoch: 53, Loss: 451.0149230957031\n",
            "Epoch: 54, Loss: 442.9144287109375\n",
            "Epoch: 55, Loss: 434.9412841796875\n",
            "Epoch: 56, Loss: 428.3255310058594\n",
            "Epoch: 57, Loss: 422.54705810546875\n",
            "Epoch: 58, Loss: 417.10577392578125\n",
            "Epoch: 59, Loss: 412.4644775390625\n",
            "Epoch: 60, Loss: 408.64483642578125\n",
            "Epoch: 61, Loss: 404.7688903808594\n",
            "Epoch: 62, Loss: 401.6847839355469\n",
            "Epoch: 63, Loss: 399.1796875\n",
            "Epoch: 64, Loss: 396.92059326171875\n",
            "Epoch: 65, Loss: 394.8155822753906\n",
            "Epoch: 66, Loss: 392.9773254394531\n",
            "Epoch: 67, Loss: 391.5135192871094\n",
            "Epoch: 68, Loss: 390.2574462890625\n",
            "Epoch: 69, Loss: 389.157958984375\n",
            "Epoch: 70, Loss: 388.3412170410156\n",
            "Epoch: 71, Loss: 387.60986328125\n",
            "Epoch: 72, Loss: 387.0435791015625\n",
            "Epoch: 73, Loss: 386.54632568359375\n",
            "Epoch: 74, Loss: 386.11602783203125\n",
            "Epoch: 75, Loss: 385.76483154296875\n",
            "Epoch: 76, Loss: 385.4837646484375\n",
            "Epoch: 77, Loss: 385.3132629394531\n",
            "Epoch: 78, Loss: 385.1689147949219\n",
            "Epoch: 79, Loss: 385.0177307128906\n",
            "Epoch: 80, Loss: 384.8678894042969\n",
            "Epoch: 81, Loss: 384.76580810546875\n",
            "Epoch: 82, Loss: 384.6932067871094\n",
            "Epoch: 83, Loss: 384.6556396484375\n",
            "Epoch: 84, Loss: 384.59173583984375\n",
            "Epoch: 85, Loss: 384.54376220703125\n",
            "Epoch: 86, Loss: 384.5002136230469\n",
            "Epoch: 87, Loss: 384.45208740234375\n",
            "Epoch: 88, Loss: 384.42498779296875\n",
            "Epoch: 89, Loss: 384.40008544921875\n",
            "Epoch: 90, Loss: 384.392822265625\n",
            "Epoch: 91, Loss: 384.37335205078125\n",
            "Epoch: 92, Loss: 384.3653564453125\n",
            "Epoch: 93, Loss: 384.3575744628906\n",
            "Epoch: 94, Loss: 384.3485412597656\n",
            "Epoch: 95, Loss: 384.34375\n",
            "Epoch: 96, Loss: 384.3398742675781\n",
            "Epoch: 97, Loss: 384.3367919921875\n",
            "Epoch: 98, Loss: 384.3393859863281\n",
            "Epoch: 99, Loss: 384.3385314941406\n",
            "Epoch: 100, Loss: 384.3359069824219\n"
          ]
        }
      ]
    },
    {
      "cell_type": "code",
      "source": [
        "plt.plot(range(len(loss_with_rmsprop)), loss_with_rmsprop)\n",
        "plt.ylabel('Mean Squared Error (RMSProp)')\n",
        "plt.xlabel('Epoch')\n",
        "plt.show()\n",
        "\n",
        "\n",
        "\n",
        "plt.plot(range(len(loss_without_rmsprop)), loss_without_rmsprop)\n",
        "plt.ylabel('Mean Squared Error (Without RMSProp)')\n",
        "plt.xlabel('Epoch')\n",
        "plt.show()"
      ],
      "metadata": {
        "colab": {
          "base_uri": "https://localhost:8080/",
          "height": 886
        },
        "id": "QSFHqxFUDV4j",
        "outputId": "a123edeb-3878-4566-a047-6a36310c537e"
      },
      "execution_count": 9,
      "outputs": [
        {
          "output_type": "display_data",
          "data": {
            "text/plain": [
              "<Figure size 640x480 with 1 Axes>"
            ],
            "image/png": "[encoded data removed]"
          },
          "metadata": {}
        },
        {
          "output_type": "display_data",
          "data": {
            "text/plain": [
              "<Figure size 640x480 with 1 Axes>"
            ],
            "image/png": "[encoded data removed]"
          },
          "metadata": {}
        }
      ]
    },
    {
      "cell_type": "code",
      "source": [],
      "metadata": {
        "id": "LhnQk4gEaHo3"
      },
      "execution_count": null,
      "outputs": []
    }
  ]
}