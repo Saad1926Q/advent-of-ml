{
  "nbformat": 4,
  "nbformat_minor": 0,
  "metadata": {
    "colab": {
      "provenance": []
    },
    "kernelspec": {
      "name": "python3",
      "display_name": "Python 3"
    },
    "language_info": {
      "name": "python"
    }
  },
  "cells": [
    {
      "cell_type": "markdown",
      "source": [
        "## Multinomial Logistic Regression/Softmax Regression\n",
        "\n",
        "**Implementation of Multinomial Logistic Regression using Pytorch**\n"
      ],
      "metadata": {
        "id": "N3luc7Rt61TG"
      }
    },
    {
      "cell_type": "code",
      "execution_count": 1,
      "metadata": {
        "id": "P1_HVYy85raM"
      },
      "outputs": [],
      "source": [
        "import pandas as pd\n",
        "import torch\n",
        "from torch.autograd import grad\n",
        "import torch.nn.functional as F\n",
        "import matplotlib.pyplot as plt\n",
        "import numpy as np"
      ]
    },
    {
      "cell_type": "code",
      "source": [
        "df = pd.read_csv('/content/iris_softmax.data', index_col=None, header=None)\n",
        "df.columns = ['x1', 'x2', 'x3', 'x4', 'y']\n",
        "\n",
        "d = {'Iris-versicolor': 1,\n",
        "     'Iris-virginica': 2,\n",
        "     'Iris-setosa': 0,\n",
        "}\n",
        "\n",
        "df['y'] = df['y'].map(d)"
      ],
      "metadata": {
        "id": "Oh-wmSDn8OAg"
      },
      "execution_count": 2,
      "outputs": []
    },
    {
      "cell_type": "code",
      "source": [
        "df"
      ],
      "metadata": {
        "colab": {
          "base_uri": "https://localhost:8080/",
          "height": 423
        },
        "id": "aT9BecA68roL",
        "outputId": "ae4e577d-a3dd-484c-ba7d-20da94d0612e"
      },
      "execution_count": 3,
      "outputs": [
        {
          "output_type": "execute_result",
          "data": {
            "text/plain": [
              "      x1   x2   x3   x4  y\n",
              "0    5.1  3.5  1.4  0.2  0\n",
              "1    4.9  3.0  1.4  0.2  0\n",
              "2    4.7  3.2  1.3  0.2  0\n",
              "3    4.6  3.1  1.5  0.2  0\n",
              "4    5.0  3.6  1.4  0.2  0\n",
              "..   ...  ...  ...  ... ..\n",
              "145  6.7  3.0  5.2  2.3  2\n",
              "146  6.3  2.5  5.0  1.9  2\n",
              "147  6.5  3.0  5.2  2.0  2\n",
              "148  6.2  3.4  5.4  2.3  2\n",
              "149  5.9  3.0  5.1  1.8  2\n",
              "\n",
              "[150 rows x 5 columns]"
            ],
            "text/html": [
              "\n",
              "  <div id=\"df-cec62952-6d0b-4a21-a4da-af9c19f314be\" class=\"colab-df-container\">\n",
              "    <div>\n",
              "<style scoped>\n",
              "    .dataframe tbody tr th:only-of-type {\n",
              "        vertical-align: middle;\n",
              "    }\n",
              "\n",
              "    .dataframe tbody tr th {\n",
              "        vertical-align: top;\n",
              "    }\n",
              "\n",
              "    .dataframe thead th {\n",
              "        text-align: right;\n",
              "    }\n",
              "</style>\n",
              "<table border=\"1\" class=\"dataframe\">\n",
              "  <thead>\n",
              "    <tr style=\"text-align: right;\">\n",
              "      <th></th>\n",
              "      <th>x1</th>\n",
              "      <th>x2</th>\n",
              "      <th>x3</th>\n",
              "      <th>x4</th>\n",
              "      <th>y</th>\n",
              "    </tr>\n",
              "  </thead>\n",
              "  <tbody>\n",
              "    <tr>\n",
              "      <th>0</th>\n",
              "      <td>5.1</td>\n",
              "      <td>3.5</td>\n",
              "      <td>1.4</td>\n",
              "      <td>0.2</td>\n",
              "      <td>0</td>\n",
              "    </tr>\n",
              "    <tr>\n",
              "      <th>1</th>\n",
              "      <td>4.9</td>\n",
              "      <td>3.0</td>\n",
              "      <td>1.4</td>\n",
              "      <td>0.2</td>\n",
              "      <td>0</td>\n",
              "    </tr>\n",
              "    <tr>\n",
              "      <th>2</th>\n",
              "      <td>4.7</td>\n",
              "      <td>3.2</td>\n",
              "      <td>1.3</td>\n",
              "      <td>0.2</td>\n",
              "      <td>0</td>\n",
              "    </tr>\n",
              "    <tr>\n",
              "      <th>3</th>\n",
              "      <td>4.6</td>\n",
              "      <td>3.1</td>\n",
              "      <td>1.5</td>\n",
              "      <td>0.2</td>\n",
              "      <td>0</td>\n",
              "    </tr>\n",
              "    <tr>\n",
              "      <th>4</th>\n",
              "      <td>5.0</td>\n",
              "      <td>3.6</td>\n",
              "      <td>1.4</td>\n",
              "      <td>0.2</td>\n",
              "      <td>0</td>\n",
              "    </tr>\n",
              "    <tr>\n",
              "      <th>...</th>\n",
              "      <td>...</td>\n",
              "      <td>...</td>\n",
              "      <td>...</td>\n",
              "      <td>...</td>\n",
              "      <td>...</td>\n",
              "    </tr>\n",
              "    <tr>\n",
              "      <th>145</th>\n",
              "      <td>6.7</td>\n",
              "      <td>3.0</td>\n",
              "      <td>5.2</td>\n",
              "      <td>2.3</td>\n",
              "      <td>2</td>\n",
              "    </tr>\n",
              "    <tr>\n",
              "      <th>146</th>\n",
              "      <td>6.3</td>\n",
              "      <td>2.5</td>\n",
              "      <td>5.0</td>\n",
              "      <td>1.9</td>\n",
              "      <td>2</td>\n",
              "    </tr>\n",
              "    <tr>\n",
              "      <th>147</th>\n",
              "      <td>6.5</td>\n",
              "      <td>3.0</td>\n",
              "      <td>5.2</td>\n",
              "      <td>2.0</td>\n",
              "      <td>2</td>\n",
              "    </tr>\n",
              "    <tr>\n",
              "      <th>148</th>\n",
              "      <td>6.2</td>\n",
              "      <td>3.4</td>\n",
              "      <td>5.4</td>\n",
              "      <td>2.3</td>\n",
              "      <td>2</td>\n",
              "    </tr>\n",
              "    <tr>\n",
              "      <th>149</th>\n",
              "      <td>5.9</td>\n",
              "      <td>3.0</td>\n",
              "      <td>5.1</td>\n",
              "      <td>1.8</td>\n",
              "      <td>2</td>\n",
              "    </tr>\n",
              "  </tbody>\n",
              "</table>\n",
              "<p>150 rows × 5 columns</p>\n",
              "</div>\n",
              "    <div class=\"colab-df-buttons\">\n",
              "\n",
              "  <div class=\"colab-df-container\">\n",
              "    <button class=\"colab-df-convert\" onclick=\"convertToInteractive('df-cec62952-6d0b-4a21-a4da-af9c19f314be')\"\n",
              "            title=\"Convert this dataframe to an interactive table.\"\n",
              "            style=\"display:none;\">\n",
              "\n",
              "  <svg xmlns=\"http://www.w3.org/2000/svg\" height=\"24px\" viewBox=\"0 -960 960 960\">\n",
              "    <path d=\"M120-120v-720h720v720H120Zm60-500h600v-160H180v160Zm220 220h160v-160H400v160Zm0 220h160v-160H400v160ZM180-400h160v-160H180v160Zm440 0h160v-160H620v160ZM180-180h160v-160H180v160Zm440 0h160v-160H620v160Z\"/>\n",
              "  </svg>\n",
              "    </button>\n",
              "\n",
              "  <style>\n",
              "    .colab-df-container {\n",
              "      display:flex;\n",
              "      gap: 12px;\n",
              "    }\n",
              "\n",
              "    .colab-df-convert {\n",
              "      background-color: #E8F0FE;\n",
              "      border: none;\n",
              "      border-radius: 50%;\n",
              "      cursor: pointer;\n",
              "      display: none;\n",
              "      fill: #1967D2;\n",
              "      height: 32px;\n",
              "      padding: 0 0 0 0;\n",
              "      width: 32px;\n",
              "    }\n",
              "\n",
              "    .colab-df-convert:hover {\n",
              "      background-color: #E2EBFA;\n",
              "      box-shadow: 0px 1px 2px rgba(60, 64, 67, 0.3), 0px 1px 3px 1px rgba(60, 64, 67, 0.15);\n",
              "      fill: #174EA6;\n",
              "    }\n",
              "\n",
              "    .colab-df-buttons div {\n",
              "      margin-bottom: 4px;\n",
              "    }\n",
              "\n",
              "    [theme=dark] .colab-df-convert {\n",
              "      background-color: #3B4455;\n",
              "      fill: #D2E3FC;\n",
              "    }\n",
              "\n",
              "    [theme=dark] .colab-df-convert:hover {\n",
              "      background-color: #434B5C;\n",
              "      box-shadow: 0px 1px 3px 1px rgba(0, 0, 0, 0.15);\n",
              "      filter: drop-shadow(0px 1px 2px rgba(0, 0, 0, 0.3));\n",
              "      fill: #FFFFFF;\n",
              "    }\n",
              "  </style>\n",
              "\n",
              "    <script>\n",
              "      const buttonEl =\n",
              "        document.querySelector('#df-cec62952-6d0b-4a21-a4da-af9c19f314be button.colab-df-convert');\n",
              "      buttonEl.style.display =\n",
              "        google.colab.kernel.accessAllowed ? 'block' : 'none';\n",
              "\n",
              "      async function convertToInteractive(key) {\n",
              "        const element = document.querySelector('#df-cec62952-6d0b-4a21-a4da-af9c19f314be');\n",
              "        const dataTable =\n",
              "          await google.colab.kernel.invokeFunction('convertToInteractive',\n",
              "                                                    [key], {});\n",
              "        if (!dataTable) return;\n",
              "\n",
              "        const docLinkHtml = 'Like what you see? Visit the ' +\n",
              "          '<a target=\"_blank\" href=https://colab.research.google.com/notebooks/data_table.ipynb>data table notebook</a>'\n",
              "          + ' to learn more about interactive tables.';\n",
              "        element.innerHTML = '';\n",
              "        dataTable['output_type'] = 'display_data';\n",
              "        await google.colab.output.renderOutput(dataTable, element);\n",
              "        const docLink = document.createElement('div');\n",
              "        docLink.innerHTML = docLinkHtml;\n",
              "        element.appendChild(docLink);\n",
              "      }\n",
              "    </script>\n",
              "  </div>\n",
              "\n",
              "\n",
              "<div id=\"df-e48f850d-f702-4ad3-8c8d-b008f3645ed4\">\n",
              "  <button class=\"colab-df-quickchart\" onclick=\"quickchart('df-e48f850d-f702-4ad3-8c8d-b008f3645ed4')\"\n",
              "            title=\"Suggest charts\"\n",
              "            style=\"display:none;\">\n",
              "\n",
              "<svg xmlns=\"http://www.w3.org/2000/svg\" height=\"24px\"viewBox=\"0 0 24 24\"\n",
              "     width=\"24px\">\n",
              "    <g>\n",
              "        <path d=\"M19 3H5c-1.1 0-2 .9-2 2v14c0 1.1.9 2 2 2h14c1.1 0 2-.9 2-2V5c0-1.1-.9-2-2-2zM9 17H7v-7h2v7zm4 0h-2V7h2v10zm4 0h-2v-4h2v4z\"/>\n",
              "    </g>\n",
              "</svg>\n",
              "  </button>\n",
              "\n",
              "<style>\n",
              "  .colab-df-quickchart {\n",
              "      --bg-color: #E8F0FE;\n",
              "      --fill-color: #1967D2;\n",
              "      --hover-bg-color: #E2EBFA;\n",
              "      --hover-fill-color: #174EA6;\n",
              "      --disabled-fill-color: #AAA;\n",
              "      --disabled-bg-color: #DDD;\n",
              "  }\n",
              "\n",
              "  [theme=dark] .colab-df-quickchart {\n",
              "      --bg-color: #3B4455;\n",
              "      --fill-color: #D2E3FC;\n",
              "      --hover-bg-color: #434B5C;\n",
              "      --hover-fill-color: #FFFFFF;\n",
              "      --disabled-bg-color: #3B4455;\n",
              "      --disabled-fill-color: #666;\n",
              "  }\n",
              "\n",
              "  .colab-df-quickchart {\n",
              "    background-color: var(--bg-color);\n",
              "    border: none;\n",
              "    border-radius: 50%;\n",
              "    cursor: pointer;\n",
              "    display: none;\n",
              "    fill: var(--fill-color);\n",
              "    height: 32px;\n",
              "    padding: 0;\n",
              "    width: 32px;\n",
              "  }\n",
              "\n",
              "  .colab-df-quickchart:hover {\n",
              "    background-color: var(--hover-bg-color);\n",
              "    box-shadow: 0 1px 2px rgba(60, 64, 67, 0.3), 0 1px 3px 1px rgba(60, 64, 67, 0.15);\n",
              "    fill: var(--button-hover-fill-color);\n",
              "  }\n",
              "\n",
              "  .colab-df-quickchart-complete:disabled,\n",
              "  .colab-df-quickchart-complete:disabled:hover {\n",
              "    background-color: var(--disabled-bg-color);\n",
              "    fill: var(--disabled-fill-color);\n",
              "    box-shadow: none;\n",
              "  }\n",
              "\n",
              "  .colab-df-spinner {\n",
              "    border: 2px solid var(--fill-color);\n",
              "    border-color: transparent;\n",
              "    border-bottom-color: var(--fill-color);\n",
              "    animation:\n",
              "      spin 1s steps(1) infinite;\n",
              "  }\n",
              "\n",
              "  @keyframes spin {\n",
              "    0% {\n",
              "      border-color: transparent;\n",
              "      border-bottom-color: var(--fill-color);\n",
              "      border-left-color: var(--fill-color);\n",
              "    }\n",
              "    20% {\n",
              "      border-color: transparent;\n",
              "      border-left-color: var(--fill-color);\n",
              "      border-top-color: var(--fill-color);\n",
              "    }\n",
              "    30% {\n",
              "      border-color: transparent;\n",
              "      border-left-color: var(--fill-color);\n",
              "      border-top-color: var(--fill-color);\n",
              "      border-right-color: var(--fill-color);\n",
              "    }\n",
              "    40% {\n",
              "      border-color: transparent;\n",
              "      border-right-color: var(--fill-color);\n",
              "      border-top-color: var(--fill-color);\n",
              "    }\n",
              "    60% {\n",
              "      border-color: transparent;\n",
              "      border-right-color: var(--fill-color);\n",
              "    }\n",
              "    80% {\n",
              "      border-color: transparent;\n",
              "      border-right-color: var(--fill-color);\n",
              "      border-bottom-color: var(--fill-color);\n",
              "    }\n",
              "    90% {\n",
              "      border-color: transparent;\n",
              "      border-bottom-color: var(--fill-color);\n",
              "    }\n",
              "  }\n",
              "</style>\n",
              "\n",
              "  <script>\n",
              "    async function quickchart(key) {\n",
              "      const quickchartButtonEl =\n",
              "        document.querySelector('#' + key + ' button');\n",
              "      quickchartButtonEl.disabled = true;  // To prevent multiple clicks.\n",
              "      quickchartButtonEl.classList.add('colab-df-spinner');\n",
              "      try {\n",
              "        const charts = await google.colab.kernel.invokeFunction(\n",
              "            'suggestCharts', [key], {});\n",
              "      } catch (error) {\n",
              "        console.error('Error during call to suggestCharts:', error);\n",
              "      }\n",
              "      quickchartButtonEl.classList.remove('colab-df-spinner');\n",
              "      quickchartButtonEl.classList.add('colab-df-quickchart-complete');\n",
              "    }\n",
              "    (() => {\n",
              "      let quickchartButtonEl =\n",
              "        document.querySelector('#df-e48f850d-f702-4ad3-8c8d-b008f3645ed4 button');\n",
              "      quickchartButtonEl.style.display =\n",
              "        google.colab.kernel.accessAllowed ? 'block' : 'none';\n",
              "    })();\n",
              "  </script>\n",
              "</div>\n",
              "\n",
              "  <div id=\"id_22eedf74-4bf3-4a56-bd4c-741cf3589cb9\">\n",
              "    <style>\n",
              "      .colab-df-generate {\n",
              "        background-color: #E8F0FE;\n",
              "        border: none;\n",
              "        border-radius: 50%;\n",
              "        cursor: pointer;\n",
              "        display: none;\n",
              "        fill: #1967D2;\n",
              "        height: 32px;\n",
              "        padding: 0 0 0 0;\n",
              "        width: 32px;\n",
              "      }\n",
              "\n",
              "      .colab-df-generate:hover {\n",
              "        background-color: #E2EBFA;\n",
              "        box-shadow: 0px 1px 2px rgba(60, 64, 67, 0.3), 0px 1px 3px 1px rgba(60, 64, 67, 0.15);\n",
              "        fill: #174EA6;\n",
              "      }\n",
              "\n",
              "      [theme=dark] .colab-df-generate {\n",
              "        background-color: #3B4455;\n",
              "        fill: #D2E3FC;\n",
              "      }\n",
              "\n",
              "      [theme=dark] .colab-df-generate:hover {\n",
              "        background-color: #434B5C;\n",
              "        box-shadow: 0px 1px 3px 1px rgba(0, 0, 0, 0.15);\n",
              "        filter: drop-shadow(0px 1px 2px rgba(0, 0, 0, 0.3));\n",
              "        fill: #FFFFFF;\n",
              "      }\n",
              "    </style>\n",
              "    <button class=\"colab-df-generate\" onclick=\"generateWithVariable('df')\"\n",
              "            title=\"Generate code using this dataframe.\"\n",
              "            style=\"display:none;\">\n",
              "\n",
              "  <svg xmlns=\"http://www.w3.org/2000/svg\" height=\"24px\"viewBox=\"0 0 24 24\"\n",
              "       width=\"24px\">\n",
              "    <path d=\"M7,19H8.4L18.45,9,17,7.55,7,17.6ZM5,21V16.75L18.45,3.32a2,2,0,0,1,2.83,0l1.4,1.43a1.91,1.91,0,0,1,.58,1.4,1.91,1.91,0,0,1-.58,1.4L9.25,21ZM18.45,9,17,7.55Zm-12,3A5.31,5.31,0,0,0,4.9,8.1,5.31,5.31,0,0,0,1,6.5,5.31,5.31,0,0,0,4.9,4.9,5.31,5.31,0,0,0,6.5,1,5.31,5.31,0,0,0,8.1,4.9,5.31,5.31,0,0,0,12,6.5,5.46,5.46,0,0,0,6.5,12Z\"/>\n",
              "  </svg>\n",
              "    </button>\n",
              "    <script>\n",
              "      (() => {\n",
              "      const buttonEl =\n",
              "        document.querySelector('#id_22eedf74-4bf3-4a56-bd4c-741cf3589cb9 button.colab-df-generate');\n",
              "      buttonEl.style.display =\n",
              "        google.colab.kernel.accessAllowed ? 'block' : 'none';\n",
              "\n",
              "      buttonEl.onclick = () => {\n",
              "        google.colab.notebook.generateWithVariable('df');\n",
              "      }\n",
              "      })();\n",
              "    </script>\n",
              "  </div>\n",
              "\n",
              "    </div>\n",
              "  </div>\n"
            ],
            "application/vnd.google.colaboratory.intrinsic+json": {
              "type": "dataframe",
              "variable_name": "df",
              "summary": "{\n  \"name\": \"df\",\n  \"rows\": 150,\n  \"fields\": [\n    {\n      \"column\": \"x1\",\n      \"properties\": {\n        \"dtype\": \"number\",\n        \"std\": 0.8280661279778629,\n        \"min\": 4.3,\n        \"max\": 7.9,\n        \"num_unique_values\": 35,\n        \"samples\": [\n          6.2,\n          4.5,\n          5.6\n        ],\n        \"semantic_type\": \"\",\n        \"description\": \"\"\n      }\n    },\n    {\n      \"column\": \"x2\",\n      \"properties\": {\n        \"dtype\": \"number\",\n        \"std\": 0.4335943113621737,\n        \"min\": 2.0,\n        \"max\": 4.4,\n        \"num_unique_values\": 23,\n        \"samples\": [\n          2.3,\n          4.0,\n          3.5\n        ],\n        \"semantic_type\": \"\",\n        \"description\": \"\"\n      }\n    },\n    {\n      \"column\": \"x3\",\n      \"properties\": {\n        \"dtype\": \"number\",\n        \"std\": 1.7644204199522617,\n        \"min\": 1.0,\n        \"max\": 6.9,\n        \"num_unique_values\": 43,\n        \"samples\": [\n          6.7,\n          3.8,\n          3.7\n        ],\n        \"semantic_type\": \"\",\n        \"description\": \"\"\n      }\n    },\n    {\n      \"column\": \"x4\",\n      \"properties\": {\n        \"dtype\": \"number\",\n        \"std\": 0.7631607417008414,\n        \"min\": 0.1,\n        \"max\": 2.5,\n        \"num_unique_values\": 22,\n        \"samples\": [\n          0.2,\n          1.2,\n          1.3\n        ],\n        \"semantic_type\": \"\",\n        \"description\": \"\"\n      }\n    },\n    {\n      \"column\": \"y\",\n      \"properties\": {\n        \"dtype\": \"number\",\n        \"std\": 0,\n        \"min\": 0,\n        \"max\": 2,\n        \"num_unique_values\": 3,\n        \"samples\": [\n          0,\n          1,\n          2\n        ],\n        \"semantic_type\": \"\",\n        \"description\": \"\"\n      }\n    }\n  ]\n}"
            }
          },
          "metadata": {},
          "execution_count": 3
        }
      ]
    },
    {
      "cell_type": "code",
      "source": [
        "X = torch.tensor(df[['x2', 'x4']].values, dtype=torch.float)\n",
        "y = torch.tensor(df['y'].values, dtype=torch.int)"
      ],
      "metadata": {
        "id": "6g6vIOQh8xtE"
      },
      "execution_count": 4,
      "outputs": []
    },
    {
      "cell_type": "code",
      "source": [
        "torch.manual_seed(120)\n",
        "\n",
        "shuffle_idx=torch.randperm(X.shape[0])\n",
        "\n",
        "X=X[shuffle_idx]\n",
        "y=y[shuffle_idx]\n",
        "\n",
        "percent70=int(0.7*X.shape[0])\n",
        "\n",
        "X_train,X_test=X[:percent70],X[percent70:]\n",
        "y_train,y_test=y[:percent70],y[percent70:]\n",
        "\n",
        "mu, sigma = X_train.mean(dim=0), X_train.std(dim=0)\n",
        "X_train = (X_train - mu) / sigma\n",
        "X_test = (X_test - mu) / sigma"
      ],
      "metadata": {
        "id": "ihJZH-L086NH"
      },
      "execution_count": 5,
      "outputs": []
    },
    {
      "cell_type": "code",
      "source": [
        "fig, ax = plt.subplots(1, 2, figsize=(7, 2.5))\n",
        "ax[0].scatter(X_train[y_train == 2, 0], X_train[y_train == 2, 1])\n",
        "ax[0].scatter(X_train[y_train == 1, 0], X_train[y_train == 1, 1], marker='v')\n",
        "ax[0].scatter(X_train[y_train == 0, 0], X_train[y_train == 0, 1], marker='s')\n",
        "ax[1].scatter(X_test[y_test == 2, 0], X_test[y_test == 2, 1])\n",
        "ax[1].scatter(X_test[y_test == 1, 0], X_test[y_test == 1, 1], marker='v')\n",
        "ax[1].scatter(X_test[y_test == 0, 0], X_test[y_test == 0, 1], marker='s')\n",
        "plt.show()"
      ],
      "metadata": {
        "colab": {
          "base_uri": "https://localhost:8080/",
          "height": 253
        },
        "id": "sER7Duk81jkp",
        "outputId": "1e1acc8c-02d3-4b00-d532-2829d8aa01a9"
      },
      "execution_count": 6,
      "outputs": [
        {
          "output_type": "display_data",
          "data": {
            "text/plain": [
              "<Figure size 700x250 with 2 Axes>"
            ],
            "image/png": "[encoded data removed]"
          },
          "metadata": {}
        }
      ]
    },
    {
      "cell_type": "code",
      "source": [
        "device = torch.device(\"cuda:0\" if torch.cuda.is_available() else \"cpu\")"
      ],
      "metadata": {
        "id": "e7Xbp-MK1p1s"
      },
      "execution_count": 7,
      "outputs": []
    },
    {
      "cell_type": "markdown",
      "source": [
        "### 1. Softmax Regression SemiAutomated\n"
      ],
      "metadata": {
        "id": "ux0XqYFpRTOs"
      }
    },
    {
      "cell_type": "code",
      "source": [
        "class SoftmaxRegression01():\n",
        "  def __init__(self,num_features,num_classes):\n",
        "    self.num_features=num_features\n",
        "    self.weights=torch.zeros(num_features,num_classes,dtype=torch.float,device=device,requires_grad=True)\n",
        "    self.bias=torch.zeros(num_classes,dtype=torch.float,device=device,requires_grad=True)\n",
        "\n",
        "  def forward(self,X):\n",
        "    logits=torch.matmul(X,self.weights)+self.bias\n",
        "    return logits\n",
        "\n",
        "  def train(self,X,y,num_epochs,lr=0.01,batch_size=10):\n",
        "    loss_arr=[]\n",
        "    torch.manual_seed(123)\n",
        "\n",
        "    for epoch in range(num_epochs):\n",
        "      shuffle_idx=torch.randperm(X.shape[0])\n",
        "      X=X[shuffle_idx]\n",
        "      y=y[shuffle_idx]\n",
        "\n",
        "      batch_indices=torch.split(shuffle_idx,batch_size)\n",
        "\n",
        "      for batch_idx in batch_indices:\n",
        "        y_hat=self.forward(X[batch_idx])\n",
        "        loss=F.cross_entropy(y_hat,y[batch_idx].type(torch.int64))\n",
        "        grad_w=grad(loss,self.weights,retain_graph=True)[0]\n",
        "        grad_b=grad(loss,self.bias)[0]\n",
        "        self.weights=self.weights-lr*grad_w\n",
        "        self.bias=self.bias-lr*grad_b\n",
        "\n",
        "      with torch.no_grad():\n",
        "        y_preds=self.forward(X)\n",
        "        epoch_loss=F.cross_entropy(y_preds,y.type(torch.int64))\n",
        "\n",
        "        print(f\"Epoch {epoch} loss {epoch_loss}\")\n",
        "        loss_arr.append(epoch_loss)\n",
        "    return loss_arr\n"
      ],
      "metadata": {
        "id": "I6Thuwch9RV9"
      },
      "execution_count": 8,
      "outputs": []
    },
    {
      "cell_type": "code",
      "source": [
        "softmax_regr01=SoftmaxRegression01(num_features=X.shape[1],num_classes=len(torch.unique(y_train)))\n",
        "loss=softmax_regr01.train(X_train,y_train,50)"
      ],
      "metadata": {
        "colab": {
          "base_uri": "https://localhost:8080/"
        },
        "id": "11DNJn1H32CB",
        "outputId": "44b8eae8-5dec-4131-93fb-bc153435423c"
      },
      "execution_count": 9,
      "outputs": [
        {
          "output_type": "stream",
          "name": "stdout",
          "text": [
            "Epoch 0 loss 1.0514488220214844\n",
            "Epoch 1 loss 1.0101319551467896\n",
            "Epoch 2 loss 0.9717589020729065\n",
            "Epoch 3 loss 0.9361893534660339\n",
            "Epoch 4 loss 0.9043244123458862\n",
            "Epoch 5 loss 0.8749634027481079\n",
            "Epoch 6 loss 0.8481345772743225\n",
            "Epoch 7 loss 0.8229734897613525\n",
            "Epoch 8 loss 0.8001627326011658\n",
            "Epoch 9 loss 0.7794102430343628\n",
            "Epoch 10 loss 0.7604812383651733\n",
            "Epoch 11 loss 0.7429279685020447\n",
            "Epoch 12 loss 0.7264118790626526\n",
            "Epoch 13 loss 0.7118656039237976\n",
            "Epoch 14 loss 0.6982561945915222\n",
            "Epoch 15 loss 0.6849701404571533\n",
            "Epoch 16 loss 0.6727284789085388\n",
            "Epoch 17 loss 0.661255419254303\n",
            "Epoch 18 loss 0.6505182385444641\n",
            "Epoch 19 loss 0.6405062675476074\n",
            "Epoch 20 loss 0.6309293508529663\n",
            "Epoch 21 loss 0.6222454309463501\n",
            "Epoch 22 loss 0.6139550805091858\n",
            "Epoch 23 loss 0.6059842109680176\n",
            "Epoch 24 loss 0.5983920693397522\n",
            "Epoch 25 loss 0.5912732481956482\n",
            "Epoch 26 loss 0.5843373537063599\n",
            "Epoch 27 loss 0.5777280926704407\n",
            "Epoch 28 loss 0.5716201663017273\n",
            "Epoch 29 loss 0.5656223297119141\n",
            "Epoch 30 loss 0.5600325465202332\n",
            "Epoch 31 loss 0.5545477271080017\n",
            "Epoch 32 loss 0.549402117729187\n",
            "Epoch 33 loss 0.5444079637527466\n",
            "Epoch 34 loss 0.5396191477775574\n",
            "Epoch 35 loss 0.5351052284240723\n",
            "Epoch 36 loss 0.5306716561317444\n",
            "Epoch 37 loss 0.5264426469802856\n",
            "Epoch 38 loss 0.5223112106323242\n",
            "Epoch 39 loss 0.5184183120727539\n",
            "Epoch 40 loss 0.5146304368972778\n",
            "Epoch 41 loss 0.5109169483184814\n",
            "Epoch 42 loss 0.507378876209259\n",
            "Epoch 43 loss 0.5040423274040222\n",
            "Epoch 44 loss 0.5006860494613647\n",
            "Epoch 45 loss 0.49747705459594727\n",
            "Epoch 46 loss 0.49433764815330505\n",
            "Epoch 47 loss 0.4913581907749176\n",
            "Epoch 48 loss 0.4884224236011505\n",
            "Epoch 49 loss 0.4855474829673767\n"
          ]
        }
      ]
    },
    {
      "cell_type": "code",
      "source": [
        "print('\\nModel parameters:')\n",
        "print('  Weights: %s' % softmax_regr01.weights)\n",
        "print('  Bias: %s' % softmax_regr01.bias)"
      ],
      "metadata": {
        "colab": {
          "base_uri": "https://localhost:8080/"
        },
        "id": "199lEkhz5g7T",
        "outputId": "fe795b05-17b7-43bb-8b75-b8ff40b30a1e"
      },
      "execution_count": 10,
      "outputs": [
        {
          "output_type": "stream",
          "name": "stdout",
          "text": [
            "\n",
            "Model parameters:\n",
            "  Weights: tensor([[ 0.5603, -0.4928, -0.0675],\n",
            "        [-1.0902,  0.0771,  1.0131]], grad_fn=<SubBackward0>)\n",
            "  Bias: tensor([-0.0440,  0.0509, -0.0069], grad_fn=<SubBackward0>)\n"
          ]
        }
      ]
    },
    {
      "cell_type": "code",
      "source": [
        "y_preds=softmax_regr01.forward(X_test)\n",
        "y_preds=torch.argmax(y_preds,dim=1)\n",
        "accuracy=torch.sum(y_preds==y_test)/len(y_preds)\n",
        "print(f\"Accuracy {accuracy*100}\")"
      ],
      "metadata": {
        "colab": {
          "base_uri": "https://localhost:8080/"
        },
        "id": "32OI9KFI565b",
        "outputId": "c1c955a9-4e0f-4c47-c7c5-0f7be42465fd"
      },
      "execution_count": 11,
      "outputs": [
        {
          "output_type": "stream",
          "name": "stdout",
          "text": [
            "Accuracy 86.66666412353516\n"
          ]
        }
      ]
    },
    {
      "cell_type": "code",
      "source": [
        "plt.plot(loss)\n",
        "plt.ylabel('Negative Log Likelihood Loss')\n",
        "plt.xlabel('Epoch')\n",
        "plt.show()"
      ],
      "metadata": {
        "colab": {
          "base_uri": "https://localhost:8080/",
          "height": 449
        },
        "id": "MV3o-ywV7kbI",
        "outputId": "82d95e5f-305c-409b-c509-7a75d3768192"
      },
      "execution_count": 12,
      "outputs": [
        {
          "output_type": "display_data",
          "data": {
            "text/plain": [
              "<Figure size 640x480 with 1 Axes>"
            ],
            "image/png": "[encoded data removed]"
          },
          "metadata": {}
        }
      ]
    },
    {
      "cell_type": "code",
      "source": [
        "from matplotlib.colors import ListedColormap\n",
        "import numpy as np\n",
        "\n",
        "\n",
        "def plot_decision_regions(X, y, classifier, resolution=0.02):\n",
        "\n",
        "    # setup marker generator and color map\n",
        "    markers = ('s', 'x', 'o', '^', 'v')\n",
        "    colors = ('red', 'blue', 'lightgreen', 'gray', 'cyan')\n",
        "    cmap = ListedColormap(colors[:len(np.unique(y))])\n",
        "\n",
        "    # plot the decision surface\n",
        "    x1_min, x1_max = X[:, 0].min() - 1, X[:, 0].max() + 1\n",
        "    x2_min, x2_max = X[:, 1].min() - 1, X[:, 1].max() + 1\n",
        "    xx1, xx2 = np.meshgrid(np.arange(x1_min, x1_max, resolution),\n",
        "                           np.arange(x2_min, x2_max, resolution))\n",
        "    tensor = torch.tensor(np.array([xx1.ravel(), xx2.ravel()]).T).float()\n",
        "    logits = classifier.forward(tensor)\n",
        "    probas=F.softmax(logits,dim=1)\n",
        "    Z = np.argmax(probas.detach().numpy(), axis=1)\n",
        "\n",
        "    Z = Z.reshape(xx1.shape)\n",
        "    plt.contourf(xx1, xx2, Z, alpha=0.4, cmap=cmap)\n",
        "    plt.xlim(xx1.min(), xx1.max())\n",
        "    plt.ylim(xx2.min(), xx2.max())\n",
        "\n",
        "    # plot class samples\n",
        "    for idx, cl in enumerate(np.unique(y)):\n",
        "        plt.scatter(x=X[y == cl, 0], y=X[y == cl, 1],\n",
        "                    alpha=0.8, color=cmap(idx),\n",
        "                    edgecolor='black',\n",
        "                    marker=markers[idx],\n",
        "                    label=cl)"
      ],
      "metadata": {
        "id": "PoKzLFaI7t9-"
      },
      "execution_count": 13,
      "outputs": []
    },
    {
      "cell_type": "code",
      "source": [
        "plot_decision_regions(X_train, y_train, classifier=softmax_regr01)\n",
        "plt.xlabel('sepal length [cm]')\n",
        "plt.ylabel('petal length [cm]')\n",
        "plt.legend(loc='upper left')\n",
        "\n",
        "plt.tight_layout()\n",
        "plt.show()"
      ],
      "metadata": {
        "colab": {
          "base_uri": "https://localhost:8080/",
          "height": 611
        },
        "id": "0oK9DMLH8JjE",
        "outputId": "7ec1c3f2-3592-4ace-b120-63ec35d3d816"
      },
      "execution_count": 14,
      "outputs": [
        {
          "output_type": "stream",
          "name": "stderr",
          "text": [
            "<ipython-input-13-fb464afffa71>:15: DeprecationWarning: __array__ implementation doesn't accept a copy keyword, so passing copy=False failed. __array__ must implement 'dtype' and 'copy' keyword arguments.\n",
            "  xx1, xx2 = np.meshgrid(np.arange(x1_min, x1_max, resolution),\n",
            "<ipython-input-13-fb464afffa71>:16: DeprecationWarning: __array__ implementation doesn't accept a copy keyword, so passing copy=False failed. __array__ must implement 'dtype' and 'copy' keyword arguments.\n",
            "  np.arange(x2_min, x2_max, resolution))\n",
            "<ipython-input-13-fb464afffa71>:29: UserWarning: You passed a edgecolor/edgecolors ('black') for an unfilled marker ('x').  Matplotlib is ignoring the edgecolor in favor of the facecolor.  This behavior may change in the future.\n",
            "  plt.scatter(x=X[y == cl, 0], y=X[y == cl, 1],\n"
          ]
        },
        {
          "output_type": "display_data",
          "data": {
            "text/plain": [
              "<Figure size 640x480 with 1 Axes>"
            ],
            "image/png": "[encoded data removed]"
          },
          "metadata": {}
        }
      ]
    },
    {
      "cell_type": "markdown",
      "source": [
        "### 2. Softmax Regression Automated\n",
        "\n",
        "\n",
        "\n",
        "\n",
        "\n",
        "\n",
        "\n",
        "\n",
        "\n"
      ],
      "metadata": {
        "id": "BMTcoeVYRHDM"
      }
    },
    {
      "cell_type": "code",
      "source": [
        "class SoftmaxRegression02(torch.nn.Module):\n",
        "  def __init__(self,num_features,num_classes):\n",
        "    super().__init__()\n",
        "    self.linear=torch.nn.Linear(num_features,num_classes)\n",
        "    self.linear.weight.detach().zero_()\n",
        "    self.linear.bias.detach().zero_()\n",
        "\n",
        "  def forward(self,X):\n",
        "    logits=self.linear(X)\n",
        "    return logits\n",
        "\n",
        "  def train(self,X,y,num_epochs,lr=0.01,batch_size=10):\n",
        "    loss_arr=[]\n",
        "\n",
        "    torch.manual_seed(123)\n",
        "\n",
        "    optimizer = torch.optim.SGD(self.parameters(), lr=lr)\n",
        "\n",
        "    shuffle_idx=torch.randperm(X.shape[0])\n",
        "\n",
        "    X=X[shuffle_idx]\n",
        "    y=y[shuffle_idx]\n",
        "\n",
        "    batch_indices=torch.split(shuffle_idx,batch_size)\n",
        "    for epoch in range(num_epochs):\n",
        "      for batch_idx in batch_indices:\n",
        "        y_hat=self.forward(X[batch_idx])\n",
        "        loss=F.cross_entropy(y_hat,y[batch_idx].type(torch.int64))\n",
        "        optimizer.zero_grad()\n",
        "        loss.backward()\n",
        "        optimizer.step()\n",
        "\n",
        "      with torch.no_grad():\n",
        "        y_preds=self.forward(X)\n",
        "        epoch_loss=F.cross_entropy(y_preds,y.type(torch.int64))\n",
        "\n",
        "        print(f\"Epoch {epoch} loss {epoch_loss}\")\n",
        "        loss_arr.append(epoch_loss)\n",
        "    return loss_arr\n",
        "\n",
        "\n",
        ""
      ],
      "metadata": {
        "id": "wkFOkfVD8Moe"
      },
      "execution_count": 15,
      "outputs": []
    },
    {
      "cell_type": "code",
      "source": [
        "softmax_regr02=SoftmaxRegression02(num_features=X.shape[1],num_classes=len(torch.unique(y_train)))\n",
        "loss02=softmax_regr02.train(X_train,y_train,50)"
      ],
      "metadata": {
        "colab": {
          "base_uri": "https://localhost:8080/"
        },
        "id": "QSqEz-qvPYtg",
        "outputId": "395848a7-e7c2-44b4-e107-428bae857281"
      },
      "execution_count": 16,
      "outputs": [
        {
          "output_type": "stream",
          "name": "stdout",
          "text": [
            "Epoch 0 loss 1.0514488220214844\n",
            "Epoch 1 loss 1.0085920095443726\n",
            "Epoch 2 loss 0.9696667790412903\n",
            "Epoch 3 loss 0.9343041777610779\n",
            "Epoch 4 loss 0.9021508097648621\n",
            "Epoch 5 loss 0.8728760480880737\n",
            "Epoch 6 loss 0.8461751937866211\n",
            "Epoch 7 loss 0.821772038936615\n",
            "Epoch 8 loss 0.799418032169342\n",
            "Epoch 9 loss 0.778892457485199\n",
            "Epoch 10 loss 0.7599990963935852\n",
            "Epoch 11 loss 0.7425650954246521\n",
            "Epoch 12 loss 0.7264383435249329\n",
            "Epoch 13 loss 0.7114842534065247\n",
            "Epoch 14 loss 0.6975851655006409\n",
            "Epoch 15 loss 0.6846370100975037\n",
            "Epoch 16 loss 0.6725479364395142\n",
            "Epoch 17 loss 0.6612370014190674\n",
            "Epoch 18 loss 0.6506325602531433\n",
            "Epoch 19 loss 0.6406710743904114\n",
            "Epoch 20 loss 0.6312959790229797\n",
            "Epoch 21 loss 0.6224568486213684\n",
            "Epoch 22 loss 0.6141089200973511\n",
            "Epoch 23 loss 0.6062119007110596\n",
            "Epoch 24 loss 0.59872967004776\n",
            "Epoch 25 loss 0.5916296243667603\n",
            "Epoch 26 loss 0.5848828554153442\n",
            "Epoch 27 loss 0.5784627199172974\n",
            "Epoch 28 loss 0.5723453164100647\n",
            "Epoch 29 loss 0.5665090680122375\n",
            "Epoch 30 loss 0.5609341859817505\n",
            "Epoch 31 loss 0.5556027293205261\n",
            "Epoch 32 loss 0.5504985451698303\n",
            "Epoch 33 loss 0.5456064343452454\n",
            "Epoch 34 loss 0.5409126877784729\n",
            "Epoch 35 loss 0.5364049077033997\n",
            "Epoch 36 loss 0.5320714116096497\n",
            "Epoch 37 loss 0.5279015898704529\n",
            "Epoch 38 loss 0.5238858461380005\n",
            "Epoch 39 loss 0.5200148820877075\n",
            "Epoch 40 loss 0.5162804126739502\n",
            "Epoch 41 loss 0.5126748085021973\n",
            "Epoch 42 loss 0.5091908574104309\n",
            "Epoch 43 loss 0.5058218836784363\n",
            "Epoch 44 loss 0.5025617480278015\n",
            "Epoch 45 loss 0.4994046092033386\n",
            "Epoch 46 loss 0.496345192193985\n",
            "Epoch 47 loss 0.49337854981422424\n",
            "Epoch 48 loss 0.4904997646808624\n",
            "Epoch 49 loss 0.4877047538757324\n"
          ]
        }
      ]
    },
    {
      "cell_type": "code",
      "source": [
        "print('\\nModel parameters:')\n",
        "print('  Weights: %s' % softmax_regr02.linear.weight)\n",
        "print('  Bias: %s' % softmax_regr02.linear.bias)"
      ],
      "metadata": {
        "colab": {
          "base_uri": "https://localhost:8080/"
        },
        "id": "T2sfm7UqPhcv",
        "outputId": "c55001c7-1e91-4dac-bc3e-c34181a3c123"
      },
      "execution_count": 17,
      "outputs": [
        {
          "output_type": "stream",
          "name": "stdout",
          "text": [
            "\n",
            "Model parameters:\n",
            "  Weights: Parameter containing:\n",
            "tensor([[ 0.5768, -1.0807],\n",
            "        [-0.4910,  0.0747],\n",
            "        [-0.0858,  1.0059]], requires_grad=True)\n",
            "  Bias: Parameter containing:\n",
            "tensor([-0.0404,  0.0280,  0.0123], requires_grad=True)\n"
          ]
        }
      ]
    },
    {
      "cell_type": "code",
      "source": [
        "y_preds02=softmax_regr02.forward(X_test)\n",
        "y_preds02=torch.argmax(y_preds02,dim=1)\n",
        "accuracy=torch.sum(y_preds02==y_test)/len(y_preds02)\n",
        "print(f\"Accuracy {accuracy*100}\")"
      ],
      "metadata": {
        "colab": {
          "base_uri": "https://localhost:8080/"
        },
        "id": "tpa9qfjRQYCj",
        "outputId": "2fe67cc5-3188-4fb9-9bd0-b725b10f8d88"
      },
      "execution_count": 18,
      "outputs": [
        {
          "output_type": "stream",
          "name": "stdout",
          "text": [
            "Accuracy 86.66666412353516\n"
          ]
        }
      ]
    },
    {
      "cell_type": "code",
      "source": [
        "plt.plot(loss02)\n",
        "plt.ylabel('Negative Log Likelihood Loss')\n",
        "plt.xlabel('Epoch')\n",
        "plt.show()"
      ],
      "metadata": {
        "colab": {
          "base_uri": "https://localhost:8080/",
          "height": 449
        },
        "id": "eUrkx07OQiZm",
        "outputId": "a00e0085-4b3d-43e1-e05e-88ca08730484"
      },
      "execution_count": 19,
      "outputs": [
        {
          "output_type": "display_data",
          "data": {
            "text/plain": [
              "<Figure size 640x480 with 1 Axes>"
            ],
            "image/png": "[encoded data removed]"
          },
          "metadata": {}
        }
      ]
    },
    {
      "cell_type": "code",
      "source": [
        "plot_decision_regions(X_train, y_train, classifier=softmax_regr02)\n",
        "plt.xlabel('sepal length [cm]')\n",
        "plt.ylabel('petal length [cm]')\n",
        "plt.legend(loc='upper left')\n",
        "\n",
        "plt.tight_layout()\n",
        "plt.show()"
      ],
      "metadata": {
        "colab": {
          "base_uri": "https://localhost:8080/",
          "height": 611
        },
        "id": "hOA_D02pQvGk",
        "outputId": "d3e42cf6-4320-47ab-bfd8-5af4b07272f2"
      },
      "execution_count": 20,
      "outputs": [
        {
          "output_type": "stream",
          "name": "stderr",
          "text": [
            "<ipython-input-13-fb464afffa71>:15: DeprecationWarning: __array__ implementation doesn't accept a copy keyword, so passing copy=False failed. __array__ must implement 'dtype' and 'copy' keyword arguments.\n",
            "  xx1, xx2 = np.meshgrid(np.arange(x1_min, x1_max, resolution),\n",
            "<ipython-input-13-fb464afffa71>:16: DeprecationWarning: __array__ implementation doesn't accept a copy keyword, so passing copy=False failed. __array__ must implement 'dtype' and 'copy' keyword arguments.\n",
            "  np.arange(x2_min, x2_max, resolution))\n",
            "<ipython-input-13-fb464afffa71>:29: UserWarning: You passed a edgecolor/edgecolors ('black') for an unfilled marker ('x').  Matplotlib is ignoring the edgecolor in favor of the facecolor.  This behavior may change in the future.\n",
            "  plt.scatter(x=X[y == cl, 0], y=X[y == cl, 1],\n"
          ]
        },
        {
          "output_type": "display_data",
          "data": {
            "text/plain": [
              "<Figure size 640x480 with 1 Axes>"
            ],
            "image/png": "[encoded data removed]"
          },
          "metadata": {}
        }
      ]
    },
    {
      "cell_type": "code",
      "source": [],
      "metadata": {
        "id": "rVpTF0RCQzA4"
      },
      "execution_count": 20,
      "outputs": []
    }
  ]
}