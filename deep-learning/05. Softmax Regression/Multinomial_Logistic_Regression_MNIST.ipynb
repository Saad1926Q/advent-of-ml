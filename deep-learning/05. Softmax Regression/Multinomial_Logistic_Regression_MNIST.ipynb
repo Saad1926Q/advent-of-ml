{
  "nbformat": 4,
  "nbformat_minor": 0,
  "metadata": {
    "colab": {
      "provenance": []
    },
    "kernelspec": {
      "name": "python3",
      "display_name": "Python 3"
    },
    "language_info": {
      "name": "python"
    }
  },
  "cells": [
    {
      "cell_type": "code",
      "execution_count": 45,
      "metadata": {
        "id": "YwBD-IvzVkRq"
      },
      "outputs": [],
      "source": [
        "import time\n",
        "from torchvision import datasets\n",
        "from torchvision import transforms\n",
        "from torch.utils.data import DataLoader\n",
        "import torch.nn.functional as F\n",
        "import torch\n",
        "import matplotlib\n",
        "import matplotlib.pyplot as plt"
      ]
    },
    {
      "cell_type": "code",
      "source": [
        "device = torch.device(\"cuda:0\" if torch.cuda.is_available() else \"cpu\")\n",
        "\n",
        "# Hyperparameters\n",
        "random_seed = 123\n",
        "learning_rate = 0.1\n",
        "num_epochs = 25\n",
        "batch_size = 256\n",
        "\n",
        "# Architecture\n",
        "num_features = 784\n",
        "num_classes = 10\n",
        "\n",
        "\n",
        "##########################\n",
        "### MNIST DATASET\n",
        "##########################\n",
        "\n",
        "train_dataset = datasets.MNIST(root='data',\n",
        "                               train=True,\n",
        "                               transform=transforms.ToTensor(),\n",
        "                               download=True)\n",
        "\n",
        "test_dataset = datasets.MNIST(root='data',\n",
        "                              train=False,\n",
        "                              transform=transforms.ToTensor())\n",
        "\n",
        "train_loader = DataLoader(dataset=train_dataset,\n",
        "                          batch_size=batch_size,\n",
        "                          shuffle=True)\n",
        "\n",
        "test_loader = DataLoader(dataset=test_dataset,\n",
        "                         batch_size=batch_size,\n",
        "                         shuffle=False)\n",
        "\n",
        "\n",
        "# Checking the dataset\n",
        "for images, labels in train_loader:\n",
        "    print('Image batch dimensions:', images.shape) #NCHW\n",
        "    print('Image label dimensions:', labels.shape)\n",
        "    break"
      ],
      "metadata": {
        "colab": {
          "base_uri": "https://localhost:8080/"
        },
        "id": "6TpDLmvMVv_b",
        "outputId": "a818090b-9fee-4d6f-ac53-0a9f753bf981"
      },
      "execution_count": 2,
      "outputs": [
        {
          "output_type": "stream",
          "name": "stderr",
          "text": [
            "100%|██████████| 9.91M/9.91M [00:00<00:00, 123MB/s]\n",
            "100%|██████████| 28.9k/28.9k [00:00<00:00, 35.5MB/s]\n",
            "100%|██████████| 1.65M/1.65M [00:00<00:00, 32.8MB/s]\n",
            "100%|██████████| 4.54k/4.54k [00:00<00:00, 6.31MB/s]\n"
          ]
        },
        {
          "output_type": "stream",
          "name": "stdout",
          "text": [
            "Image batch dimensions: torch.Size([256, 1, 28, 28])\n",
            "Image label dimensions: torch.Size([256])\n"
          ]
        }
      ]
    },
    {
      "cell_type": "code",
      "source": [
        "class SoftmaxRegression(torch.nn.Module):\n",
        "\n",
        "    def __init__(self, num_features, num_classes):\n",
        "        super(SoftmaxRegression, self).__init__()\n",
        "        self.linear = torch.nn.Linear(num_features, num_classes)\n",
        "\n",
        "        self.linear.weight.detach().zero_()\n",
        "        self.linear.bias.detach().zero_()\n",
        "\n",
        "    def forward(self, x):\n",
        "        logits = self.linear(x)\n",
        "        return logits\n",
        "\n",
        "    def compute_accuracy_and_loss(self, data_loader,device):\n",
        "      correct_preds=0\n",
        "      total_preds=0\n",
        "      avg_loss=0\n",
        "      total_batches=0\n",
        "      for batch_idx,(inputs,targets) in enumerate(data_loader):\n",
        "        inputs=inputs.reshape(-1,28*28).to(device)\n",
        "        targets=targets.to(device)\n",
        "        logits=self.forward(inputs)\n",
        "        avg_loss+=F.cross_entropy(logits,targets)\n",
        "        total_batches+=1\n",
        "        preds=F.softmax(logits,dim=1)\n",
        "        _, preds = torch.max(preds, 1)\n",
        "        correct_preds+=torch.sum(preds==targets)\n",
        "        total_preds+=len(preds)\n",
        "      accuracy=correct_preds/total_preds\n",
        "      avg_loss/=total_batches\n",
        "      return accuracy,avg_loss\n",
        "\n",
        "    def train(self,train_loader,num_epochs,lr,device):\n",
        "      loss_arr=[]\n",
        "      torch.manual_seed(123)\n",
        "      optimizer = torch.optim.SGD(self.parameters(), lr=learning_rate)\n",
        "\n",
        "      for epoch in range(num_epochs):\n",
        "        avg_cost=0\n",
        "        for batch_idx,(inputs,targets) in enumerate(train_loader):\n",
        "          inputs=inputs.reshape(-1,28*28).to(device)\n",
        "          targets=targets.to(device)\n",
        "          logits=self.forward(inputs)\n",
        "          loss=F.cross_entropy(logits,targets)\n",
        "          optimizer.zero_grad()\n",
        "          loss.backward()\n",
        "          optimizer.step()\n",
        "\n",
        "        with torch.no_grad():\n",
        "          epoch_accuracy,epoch_loss=self.compute_accuracy_and_loss(train_loader,device)\n",
        "          print(f\"Epoch {epoch} \\t Loss: {epoch_loss} \\t Training Accuracy: {epoch_accuracy}\")\n",
        "\n",
        "\n"
      ],
      "metadata": {
        "id": "RrLKbK85V9M-"
      },
      "execution_count": 34,
      "outputs": []
    },
    {
      "cell_type": "code",
      "source": [
        "model = SoftmaxRegression(num_features=num_features,\n",
        "                          num_classes=num_classes)\n",
        "\n",
        "model.to(device)"
      ],
      "metadata": {
        "colab": {
          "base_uri": "https://localhost:8080/"
        },
        "id": "JHSMA6aGZ-bI",
        "outputId": "2320c34f-bf06-4c78-a1bd-5513eba7a485"
      },
      "execution_count": 35,
      "outputs": [
        {
          "output_type": "execute_result",
          "data": {
            "text/plain": [
              "SoftmaxRegression(\n",
              "  (linear): Linear(in_features=784, out_features=10, bias=True)\n",
              ")"
            ]
          },
          "metadata": {},
          "execution_count": 35
        }
      ]
    },
    {
      "cell_type": "code",
      "source": [
        "model.train(train_loader=train_loader,num_epochs=10,lr=0.01,device=device)"
      ],
      "metadata": {
        "colab": {
          "base_uri": "https://localhost:8080/"
        },
        "id": "iRAw-mDBaH37",
        "outputId": "7d16e5e2-db68-4f0b-eadf-a7a6e6887350"
      },
      "execution_count": 36,
      "outputs": [
        {
          "output_type": "stream",
          "name": "stdout",
          "text": [
            "Epoch 0 \t Loss: 0.4709162712097168 \t Training Accuracy: 0.8805166482925415\n",
            "Epoch 1 \t Loss: 0.3985048532485962 \t Training Accuracy: 0.8926500082015991\n",
            "Epoch 2 \t Loss: 0.3692842423915863 \t Training Accuracy: 0.8994166851043701\n",
            "Epoch 3 \t Loss: 0.3514530062675476 \t Training Accuracy: 0.902899980545044\n",
            "Epoch 4 \t Loss: 0.33831819891929626 \t Training Accuracy: 0.906083345413208\n",
            "Epoch 5 \t Loss: 0.33036160469055176 \t Training Accuracy: 0.9083166718482971\n",
            "Epoch 6 \t Loss: 0.3238169848918915 \t Training Accuracy: 0.9100833535194397\n",
            "Epoch 7 \t Loss: 0.3179059624671936 \t Training Accuracy: 0.9120500087738037\n",
            "Epoch 8 \t Loss: 0.31197986006736755 \t Training Accuracy: 0.9131500124931335\n",
            "Epoch 9 \t Loss: 0.3082396388053894 \t Training Accuracy: 0.9145833253860474\n"
          ]
        }
      ]
    },
    {
      "cell_type": "code",
      "source": [
        "test_accuracy,test_loss=model.compute_accuracy_and_loss(test_loader,device)\n",
        "print(f\"test_accuracy {test_accuracy*100:.3f}\")"
      ],
      "metadata": {
        "colab": {
          "base_uri": "https://localhost:8080/"
        },
        "id": "E7v2oLDmaR4E",
        "outputId": "e91d0bf5-696c-412c-ad11-b14a6ae2166b"
      },
      "execution_count": 43,
      "outputs": [
        {
          "output_type": "stream",
          "name": "stdout",
          "text": [
            "test_accuracy 91.640\n"
          ]
        }
      ]
    },
    {
      "cell_type": "code",
      "source": [
        "for features, targets in test_loader:\n",
        "    break\n",
        "\n",
        "fig, ax = plt.subplots(1, 4)\n",
        "for i in range(4):\n",
        "    ax[i].imshow(features[i].view(28, 28), cmap=matplotlib.cm.binary)\n",
        "\n",
        "plt.show()"
      ],
      "metadata": {
        "colab": {
          "base_uri": "https://localhost:8080/",
          "height": 172
        },
        "id": "72WThKGlg97y",
        "outputId": "3696dfeb-edcb-4b02-d386-b1fd60ee4797"
      },
      "execution_count": 46,
      "outputs": [
        {
          "output_type": "display_data",
          "data": {
            "text/plain": [
              "<Figure size 640x480 with 4 Axes>"
            ],
            "image/png": "[encoded data removed]"
          },
          "metadata": {}
        }
      ]
    },
    {
      "cell_type": "code",
      "source": [
        "predictions = model.forward(features[:4].reshape(-1, 28*28).to(device))\n",
        "predictions = torch.argmax(predictions, dim=1)\n",
        "print('Predicted labels', predictions)"
      ],
      "metadata": {
        "colab": {
          "base_uri": "https://localhost:8080/"
        },
        "id": "RGMCjgIJhnSj",
        "outputId": "a24f7cb6-fb5f-41d8-b18b-530d4df7f711"
      },
      "execution_count": 47,
      "outputs": [
        {
          "output_type": "stream",
          "name": "stdout",
          "text": [
            "Predicted labels tensor([7, 2, 1, 0])\n"
          ]
        }
      ]
    },
    {
      "cell_type": "code",
      "source": [],
      "metadata": {
        "id": "JFGoQ7T6h3aT"
      },
      "execution_count": null,
      "outputs": []
    }
  ]
}