{
  "nbformat": 4,
  "nbformat_minor": 0,
  "metadata": {
    "colab": {
      "provenance": []
    },
    "kernelspec": {
      "name": "python3",
      "display_name": "Python 3"
    },
    "language_info": {
      "name": "python"
    }
  },
  "cells": [
    {
      "cell_type": "markdown",
      "source": [
        "### The Perceptron\n",
        "\n",
        "Implementation of Perceptron using Numpy\n",
        "\n",
        "I referred to the [Deep Learning Playlist by Sebastian Raschka](https://www.youtube.com/playlist?list=PLTKMiZHVd_2KJtIXOW0zFhFfBaJJilH51) for understanding many of the concepts related to the perceptron and its implemetation. Anyone looking for great resources on deep learning can check it out!\n"
      ],
      "metadata": {
        "id": "cOOpD2c3wv7m"
      }
    },
    {
      "cell_type": "code",
      "source": [
        "import pandas as pd\n",
        "import numpy as np\n",
        "import random\n",
        "import matplotlib.pyplot as plt"
      ],
      "metadata": {
        "id": "O0SQzqIyyPR_"
      },
      "execution_count": 1,
      "outputs": []
    },
    {
      "cell_type": "code",
      "source": [
        "data=pd.read_csv(\"/content/perceptron_toydata.txt\",delimiter='\\t')"
      ],
      "metadata": {
        "id": "CawlqIQuyMio"
      },
      "execution_count": 2,
      "outputs": []
    },
    {
      "cell_type": "code",
      "source": [
        "X,y=data.iloc[:,:2],data.iloc[:,2]"
      ],
      "metadata": {
        "id": "g7UqjojzyplW"
      },
      "execution_count": 3,
      "outputs": []
    },
    {
      "cell_type": "code",
      "source": [
        "X"
      ],
      "metadata": {
        "colab": {
          "base_uri": "https://localhost:8080/",
          "height": 423
        },
        "collapsed": true,
        "id": "cZP9uelXyp9i",
        "outputId": "80c93f89-1f4b-4528-d318-62cbcb63df13"
      },
      "execution_count": 4,
      "outputs": [
        {
          "output_type": "execute_result",
          "data": {
            "text/plain": [
              "    0.77  -1.14\n",
              "0  -0.33   1.44\n",
              "1   0.91  -3.07\n",
              "2  -0.37  -1.91\n",
              "3  -1.84  -1.13\n",
              "4  -1.50   0.34\n",
              "..   ...    ...\n",
              "94  0.71   2.27\n",
              "95  1.96   0.83\n",
              "96  2.52   1.83\n",
              "97  2.77   2.82\n",
              "98  4.16   3.34\n",
              "\n",
              "[99 rows x 2 columns]"
            ],
            "text/html": [
              "\n",
              "  <div id=\"df-1c2403f6-1de9-44e7-bad0-b8015c63a356\" class=\"colab-df-container\">\n",
              "    <div>\n",
              "<style scoped>\n",
              "    .dataframe tbody tr th:only-of-type {\n",
              "        vertical-align: middle;\n",
              "    }\n",
              "\n",
              "    .dataframe tbody tr th {\n",
              "        vertical-align: top;\n",
              "    }\n",
              "\n",
              "    .dataframe thead th {\n",
              "        text-align: right;\n",
              "    }\n",
              "</style>\n",
              "<table border=\"1\" class=\"dataframe\">\n",
              "  <thead>\n",
              "    <tr style=\"text-align: right;\">\n",
              "      <th></th>\n",
              "      <th>0.77</th>\n",
              "      <th>-1.14</th>\n",
              "    </tr>\n",
              "  </thead>\n",
              "  <tbody>\n",
              "    <tr>\n",
              "      <th>0</th>\n",
              "      <td>-0.33</td>\n",
              "      <td>1.44</td>\n",
              "    </tr>\n",
              "    <tr>\n",
              "      <th>1</th>\n",
              "      <td>0.91</td>\n",
              "      <td>-3.07</td>\n",
              "    </tr>\n",
              "    <tr>\n",
              "      <th>2</th>\n",
              "      <td>-0.37</td>\n",
              "      <td>-1.91</td>\n",
              "    </tr>\n",
              "    <tr>\n",
              "      <th>3</th>\n",
              "      <td>-1.84</td>\n",
              "      <td>-1.13</td>\n",
              "    </tr>\n",
              "    <tr>\n",
              "      <th>4</th>\n",
              "      <td>-1.50</td>\n",
              "      <td>0.34</td>\n",
              "    </tr>\n",
              "    <tr>\n",
              "      <th>...</th>\n",
              "      <td>...</td>\n",
              "      <td>...</td>\n",
              "    </tr>\n",
              "    <tr>\n",
              "      <th>94</th>\n",
              "      <td>0.71</td>\n",
              "      <td>2.27</td>\n",
              "    </tr>\n",
              "    <tr>\n",
              "      <th>95</th>\n",
              "      <td>1.96</td>\n",
              "      <td>0.83</td>\n",
              "    </tr>\n",
              "    <tr>\n",
              "      <th>96</th>\n",
              "      <td>2.52</td>\n",
              "      <td>1.83</td>\n",
              "    </tr>\n",
              "    <tr>\n",
              "      <th>97</th>\n",
              "      <td>2.77</td>\n",
              "      <td>2.82</td>\n",
              "    </tr>\n",
              "    <tr>\n",
              "      <th>98</th>\n",
              "      <td>4.16</td>\n",
              "      <td>3.34</td>\n",
              "    </tr>\n",
              "  </tbody>\n",
              "</table>\n",
              "<p>99 rows × 2 columns</p>\n",
              "</div>\n",
              "    <div class=\"colab-df-buttons\">\n",
              "\n",
              "  <div class=\"colab-df-container\">\n",
              "    <button class=\"colab-df-convert\" onclick=\"convertToInteractive('df-1c2403f6-1de9-44e7-bad0-b8015c63a356')\"\n",
              "            title=\"Convert this dataframe to an interactive table.\"\n",
              "            style=\"display:none;\">\n",
              "\n",
              "  <svg xmlns=\"http://www.w3.org/2000/svg\" height=\"24px\" viewBox=\"0 -960 960 960\">\n",
              "    <path d=\"M120-120v-720h720v720H120Zm60-500h600v-160H180v160Zm220 220h160v-160H400v160Zm0 220h160v-160H400v160ZM180-400h160v-160H180v160Zm440 0h160v-160H620v160ZM180-180h160v-160H180v160Zm440 0h160v-160H620v160Z\"/>\n",
              "  </svg>\n",
              "    </button>\n",
              "\n",
              "  <style>\n",
              "    .colab-df-container {\n",
              "      display:flex;\n",
              "      gap: 12px;\n",
              "    }\n",
              "\n",
              "    .colab-df-convert {\n",
              "      background-color: #E8F0FE;\n",
              "      border: none;\n",
              "      border-radius: 50%;\n",
              "      cursor: pointer;\n",
              "      display: none;\n",
              "      fill: #1967D2;\n",
              "      height: 32px;\n",
              "      padding: 0 0 0 0;\n",
              "      width: 32px;\n",
              "    }\n",
              "\n",
              "    .colab-df-convert:hover {\n",
              "      background-color: #E2EBFA;\n",
              "      box-shadow: 0px 1px 2px rgba(60, 64, 67, 0.3), 0px 1px 3px 1px rgba(60, 64, 67, 0.15);\n",
              "      fill: #174EA6;\n",
              "    }\n",
              "\n",
              "    .colab-df-buttons div {\n",
              "      margin-bottom: 4px;\n",
              "    }\n",
              "\n",
              "    [theme=dark] .colab-df-convert {\n",
              "      background-color: #3B4455;\n",
              "      fill: #D2E3FC;\n",
              "    }\n",
              "\n",
              "    [theme=dark] .colab-df-convert:hover {\n",
              "      background-color: #434B5C;\n",
              "      box-shadow: 0px 1px 3px 1px rgba(0, 0, 0, 0.15);\n",
              "      filter: drop-shadow(0px 1px 2px rgba(0, 0, 0, 0.3));\n",
              "      fill: #FFFFFF;\n",
              "    }\n",
              "  </style>\n",
              "\n",
              "    <script>\n",
              "      const buttonEl =\n",
              "        document.querySelector('#df-1c2403f6-1de9-44e7-bad0-b8015c63a356 button.colab-df-convert');\n",
              "      buttonEl.style.display =\n",
              "        google.colab.kernel.accessAllowed ? 'block' : 'none';\n",
              "\n",
              "      async function convertToInteractive(key) {\n",
              "        const element = document.querySelector('#df-1c2403f6-1de9-44e7-bad0-b8015c63a356');\n",
              "        const dataTable =\n",
              "          await google.colab.kernel.invokeFunction('convertToInteractive',\n",
              "                                                    [key], {});\n",
              "        if (!dataTable) return;\n",
              "\n",
              "        const docLinkHtml = 'Like what you see? Visit the ' +\n",
              "          '<a target=\"_blank\" href=https://colab.research.google.com/notebooks/data_table.ipynb>data table notebook</a>'\n",
              "          + ' to learn more about interactive tables.';\n",
              "        element.innerHTML = '';\n",
              "        dataTable['output_type'] = 'display_data';\n",
              "        await google.colab.output.renderOutput(dataTable, element);\n",
              "        const docLink = document.createElement('div');\n",
              "        docLink.innerHTML = docLinkHtml;\n",
              "        element.appendChild(docLink);\n",
              "      }\n",
              "    </script>\n",
              "  </div>\n",
              "\n",
              "\n",
              "<div id=\"df-56f98e9c-bb00-4099-8b3f-dbede1f10b3b\">\n",
              "  <button class=\"colab-df-quickchart\" onclick=\"quickchart('df-56f98e9c-bb00-4099-8b3f-dbede1f10b3b')\"\n",
              "            title=\"Suggest charts\"\n",
              "            style=\"display:none;\">\n",
              "\n",
              "<svg xmlns=\"http://www.w3.org/2000/svg\" height=\"24px\"viewBox=\"0 0 24 24\"\n",
              "     width=\"24px\">\n",
              "    <g>\n",
              "        <path d=\"M19 3H5c-1.1 0-2 .9-2 2v14c0 1.1.9 2 2 2h14c1.1 0 2-.9 2-2V5c0-1.1-.9-2-2-2zM9 17H7v-7h2v7zm4 0h-2V7h2v10zm4 0h-2v-4h2v4z\"/>\n",
              "    </g>\n",
              "</svg>\n",
              "  </button>\n",
              "\n",
              "<style>\n",
              "  .colab-df-quickchart {\n",
              "      --bg-color: #E8F0FE;\n",
              "      --fill-color: #1967D2;\n",
              "      --hover-bg-color: #E2EBFA;\n",
              "      --hover-fill-color: #174EA6;\n",
              "      --disabled-fill-color: #AAA;\n",
              "      --disabled-bg-color: #DDD;\n",
              "  }\n",
              "\n",
              "  [theme=dark] .colab-df-quickchart {\n",
              "      --bg-color: #3B4455;\n",
              "      --fill-color: #D2E3FC;\n",
              "      --hover-bg-color: #434B5C;\n",
              "      --hover-fill-color: #FFFFFF;\n",
              "      --disabled-bg-color: #3B4455;\n",
              "      --disabled-fill-color: #666;\n",
              "  }\n",
              "\n",
              "  .colab-df-quickchart {\n",
              "    background-color: var(--bg-color);\n",
              "    border: none;\n",
              "    border-radius: 50%;\n",
              "    cursor: pointer;\n",
              "    display: none;\n",
              "    fill: var(--fill-color);\n",
              "    height: 32px;\n",
              "    padding: 0;\n",
              "    width: 32px;\n",
              "  }\n",
              "\n",
              "  .colab-df-quickchart:hover {\n",
              "    background-color: var(--hover-bg-color);\n",
              "    box-shadow: 0 1px 2px rgba(60, 64, 67, 0.3), 0 1px 3px 1px rgba(60, 64, 67, 0.15);\n",
              "    fill: var(--button-hover-fill-color);\n",
              "  }\n",
              "\n",
              "  .colab-df-quickchart-complete:disabled,\n",
              "  .colab-df-quickchart-complete:disabled:hover {\n",
              "    background-color: var(--disabled-bg-color);\n",
              "    fill: var(--disabled-fill-color);\n",
              "    box-shadow: none;\n",
              "  }\n",
              "\n",
              "  .colab-df-spinner {\n",
              "    border: 2px solid var(--fill-color);\n",
              "    border-color: transparent;\n",
              "    border-bottom-color: var(--fill-color);\n",
              "    animation:\n",
              "      spin 1s steps(1) infinite;\n",
              "  }\n",
              "\n",
              "  @keyframes spin {\n",
              "    0% {\n",
              "      border-color: transparent;\n",
              "      border-bottom-color: var(--fill-color);\n",
              "      border-left-color: var(--fill-color);\n",
              "    }\n",
              "    20% {\n",
              "      border-color: transparent;\n",
              "      border-left-color: var(--fill-color);\n",
              "      border-top-color: var(--fill-color);\n",
              "    }\n",
              "    30% {\n",
              "      border-color: transparent;\n",
              "      border-left-color: var(--fill-color);\n",
              "      border-top-color: var(--fill-color);\n",
              "      border-right-color: var(--fill-color);\n",
              "    }\n",
              "    40% {\n",
              "      border-color: transparent;\n",
              "      border-right-color: var(--fill-color);\n",
              "      border-top-color: var(--fill-color);\n",
              "    }\n",
              "    60% {\n",
              "      border-color: transparent;\n",
              "      border-right-color: var(--fill-color);\n",
              "    }\n",
              "    80% {\n",
              "      border-color: transparent;\n",
              "      border-right-color: var(--fill-color);\n",
              "      border-bottom-color: var(--fill-color);\n",
              "    }\n",
              "    90% {\n",
              "      border-color: transparent;\n",
              "      border-bottom-color: var(--fill-color);\n",
              "    }\n",
              "  }\n",
              "</style>\n",
              "\n",
              "  <script>\n",
              "    async function quickchart(key) {\n",
              "      const quickchartButtonEl =\n",
              "        document.querySelector('#' + key + ' button');\n",
              "      quickchartButtonEl.disabled = true;  // To prevent multiple clicks.\n",
              "      quickchartButtonEl.classList.add('colab-df-spinner');\n",
              "      try {\n",
              "        const charts = await google.colab.kernel.invokeFunction(\n",
              "            'suggestCharts', [key], {});\n",
              "      } catch (error) {\n",
              "        console.error('Error during call to suggestCharts:', error);\n",
              "      }\n",
              "      quickchartButtonEl.classList.remove('colab-df-spinner');\n",
              "      quickchartButtonEl.classList.add('colab-df-quickchart-complete');\n",
              "    }\n",
              "    (() => {\n",
              "      let quickchartButtonEl =\n",
              "        document.querySelector('#df-56f98e9c-bb00-4099-8b3f-dbede1f10b3b button');\n",
              "      quickchartButtonEl.style.display =\n",
              "        google.colab.kernel.accessAllowed ? 'block' : 'none';\n",
              "    })();\n",
              "  </script>\n",
              "</div>\n",
              "\n",
              "  <div id=\"id_da061bab-42df-40f7-9c6f-0e7fc9d48d71\">\n",
              "    <style>\n",
              "      .colab-df-generate {\n",
              "        background-color: #E8F0FE;\n",
              "        border: none;\n",
              "        border-radius: 50%;\n",
              "        cursor: pointer;\n",
              "        display: none;\n",
              "        fill: #1967D2;\n",
              "        height: 32px;\n",
              "        padding: 0 0 0 0;\n",
              "        width: 32px;\n",
              "      }\n",
              "\n",
              "      .colab-df-generate:hover {\n",
              "        background-color: #E2EBFA;\n",
              "        box-shadow: 0px 1px 2px rgba(60, 64, 67, 0.3), 0px 1px 3px 1px rgba(60, 64, 67, 0.15);\n",
              "        fill: #174EA6;\n",
              "      }\n",
              "\n",
              "      [theme=dark] .colab-df-generate {\n",
              "        background-color: #3B4455;\n",
              "        fill: #D2E3FC;\n",
              "      }\n",
              "\n",
              "      [theme=dark] .colab-df-generate:hover {\n",
              "        background-color: #434B5C;\n",
              "        box-shadow: 0px 1px 3px 1px rgba(0, 0, 0, 0.15);\n",
              "        filter: drop-shadow(0px 1px 2px rgba(0, 0, 0, 0.3));\n",
              "        fill: #FFFFFF;\n",
              "      }\n",
              "    </style>\n",
              "    <button class=\"colab-df-generate\" onclick=\"generateWithVariable('X')\"\n",
              "            title=\"Generate code using this dataframe.\"\n",
              "            style=\"display:none;\">\n",
              "\n",
              "  <svg xmlns=\"http://www.w3.org/2000/svg\" height=\"24px\"viewBox=\"0 0 24 24\"\n",
              "       width=\"24px\">\n",
              "    <path d=\"M7,19H8.4L18.45,9,17,7.55,7,17.6ZM5,21V16.75L18.45,3.32a2,2,0,0,1,2.83,0l1.4,1.43a1.91,1.91,0,0,1,.58,1.4,1.91,1.91,0,0,1-.58,1.4L9.25,21ZM18.45,9,17,7.55Zm-12,3A5.31,5.31,0,0,0,4.9,8.1,5.31,5.31,0,0,0,1,6.5,5.31,5.31,0,0,0,4.9,4.9,5.31,5.31,0,0,0,6.5,1,5.31,5.31,0,0,0,8.1,4.9,5.31,5.31,0,0,0,12,6.5,5.46,5.46,0,0,0,6.5,12Z\"/>\n",
              "  </svg>\n",
              "    </button>\n",
              "    <script>\n",
              "      (() => {\n",
              "      const buttonEl =\n",
              "        document.querySelector('#id_da061bab-42df-40f7-9c6f-0e7fc9d48d71 button.colab-df-generate');\n",
              "      buttonEl.style.display =\n",
              "        google.colab.kernel.accessAllowed ? 'block' : 'none';\n",
              "\n",
              "      buttonEl.onclick = () => {\n",
              "        google.colab.notebook.generateWithVariable('X');\n",
              "      }\n",
              "      })();\n",
              "    </script>\n",
              "  </div>\n",
              "\n",
              "    </div>\n",
              "  </div>\n"
            ],
            "application/vnd.google.colaboratory.intrinsic+json": {
              "type": "dataframe",
              "variable_name": "X",
              "summary": "{\n  \"name\": \"X\",\n  \"rows\": 99,\n  \"fields\": [\n    {\n      \"column\": \"0.77\",\n      \"properties\": {\n        \"dtype\": \"number\",\n        \"std\": 2.2346260761630763,\n        \"min\": -5.27,\n        \"max\": 4.38,\n        \"num_unique_values\": 96,\n        \"samples\": [\n          0.77,\n          3.13,\n          0.68\n        ],\n        \"semantic_type\": \"\",\n        \"description\": \"\"\n      }\n    },\n    {\n      \"column\": \"-1.14\",\n      \"properties\": {\n        \"dtype\": \"number\",\n        \"std\": 2.2516163643745153,\n        \"min\": -4.47,\n        \"max\": 3.94,\n        \"num_unique_values\": 96,\n        \"samples\": [\n          2.09,\n          0.92,\n          1.54\n        ],\n        \"semantic_type\": \"\",\n        \"description\": \"\"\n      }\n    }\n  ]\n}"
            }
          },
          "metadata": {},
          "execution_count": 4
        }
      ]
    },
    {
      "cell_type": "code",
      "source": [
        "y"
      ],
      "metadata": {
        "colab": {
          "base_uri": "https://localhost:8080/",
          "height": 458
        },
        "collapsed": true,
        "id": "bKOaDOQry2T_",
        "outputId": "38f23bae-60ef-4ace-f502-22bcaaf4a2a2"
      },
      "execution_count": 5,
      "outputs": [
        {
          "output_type": "execute_result",
          "data": {
            "text/plain": [
              "0     0\n",
              "1     0\n",
              "2     0\n",
              "3     0\n",
              "4     0\n",
              "     ..\n",
              "94    1\n",
              "95    1\n",
              "96    1\n",
              "97    1\n",
              "98    1\n",
              "Name: 0, Length: 99, dtype: int64"
            ],
            "text/html": [
              "<div>\n",
              "<style scoped>\n",
              "    .dataframe tbody tr th:only-of-type {\n",
              "        vertical-align: middle;\n",
              "    }\n",
              "\n",
              "    .dataframe tbody tr th {\n",
              "        vertical-align: top;\n",
              "    }\n",
              "\n",
              "    .dataframe thead th {\n",
              "        text-align: right;\n",
              "    }\n",
              "</style>\n",
              "<table border=\"1\" class=\"dataframe\">\n",
              "  <thead>\n",
              "    <tr style=\"text-align: right;\">\n",
              "      <th></th>\n",
              "      <th>0</th>\n",
              "    </tr>\n",
              "  </thead>\n",
              "  <tbody>\n",
              "    <tr>\n",
              "      <th>0</th>\n",
              "      <td>0</td>\n",
              "    </tr>\n",
              "    <tr>\n",
              "      <th>1</th>\n",
              "      <td>0</td>\n",
              "    </tr>\n",
              "    <tr>\n",
              "      <th>2</th>\n",
              "      <td>0</td>\n",
              "    </tr>\n",
              "    <tr>\n",
              "      <th>3</th>\n",
              "      <td>0</td>\n",
              "    </tr>\n",
              "    <tr>\n",
              "      <th>4</th>\n",
              "      <td>0</td>\n",
              "    </tr>\n",
              "    <tr>\n",
              "      <th>...</th>\n",
              "      <td>...</td>\n",
              "    </tr>\n",
              "    <tr>\n",
              "      <th>94</th>\n",
              "      <td>1</td>\n",
              "    </tr>\n",
              "    <tr>\n",
              "      <th>95</th>\n",
              "      <td>1</td>\n",
              "    </tr>\n",
              "    <tr>\n",
              "      <th>96</th>\n",
              "      <td>1</td>\n",
              "    </tr>\n",
              "    <tr>\n",
              "      <th>97</th>\n",
              "      <td>1</td>\n",
              "    </tr>\n",
              "    <tr>\n",
              "      <th>98</th>\n",
              "      <td>1</td>\n",
              "    </tr>\n",
              "  </tbody>\n",
              "</table>\n",
              "<p>99 rows × 1 columns</p>\n",
              "</div><br><label><b>dtype:</b> int64</label>"
            ]
          },
          "metadata": {},
          "execution_count": 5
        }
      ]
    },
    {
      "cell_type": "markdown",
      "source": [
        "## Shuffling the data\n",
        "\n",
        "- Here we are **shuffling the data** so that the model doesnt learn any unintended patterns or biases from the dataset.\n",
        "\n",
        "- So basically we first use ```np.arange(y.shape[0])``` which generates a numpy array containing numbers from 0 to y.shape[0] ( we couldve also done x.shape[0] and still gotten the same result)\n",
        "\n",
        "- now that we have all the indices we will shuffle it using ```np.random.shuffle``` which just shuffle all the values inside the numpy array\n",
        "\n",
        "- we have used random seeds to ensure reproducibility ie we get the same shuffling everytime."
      ],
      "metadata": {
        "id": "hlH38VW3luO0"
      }
    },
    {
      "cell_type": "code",
      "source": [
        "random.seed(23)\n",
        "np.random.seed(23)\n",
        "shuffle_idx=np.arange(y.shape[0])\n",
        "np.random.shuffle(shuffle_idx)"
      ],
      "metadata": {
        "id": "0uotKnR_y4LF"
      },
      "execution_count": 6,
      "outputs": []
    },
    {
      "cell_type": "code",
      "source": [
        "shuffle_idx"
      ],
      "metadata": {
        "colab": {
          "base_uri": "https://localhost:8080/"
        },
        "id": "Uu4WPtBT3gCR",
        "outputId": "46d93a88-2a3c-4880-d43e-c10cd78de8fe"
      },
      "execution_count": 7,
      "outputs": [
        {
          "output_type": "execute_result",
          "data": {
            "text/plain": [
              "array([24, 53, 84,  3, 88, 50, 80, 72, 17,  9, 98, 97, 79, 86, 37, 29,  8,\n",
              "       26,  4, 93,  5, 68, 28, 47,  7, 55, 11, 20, 74, 27, 23, 71, 18, 56,\n",
              "       67, 16, 61, 82, 77, 46, 42, 34, 52, 87, 78,  0, 14, 30, 94, 38, 63,\n",
              "       13, 32, 35, 44, 10,  2, 89, 95, 58, 60, 96, 70, 22, 81, 43,  1, 65,\n",
              "       36, 15, 92, 59, 33, 19, 57, 62, 41, 48, 21, 85, 64, 69, 75, 66, 49,\n",
              "       12, 45,  6, 51, 25, 90, 39, 91, 76, 31, 54, 73, 40, 83])"
            ]
          },
          "metadata": {},
          "execution_count": 7
        }
      ]
    },
    {
      "cell_type": "code",
      "source": [
        "X,y=X.iloc[shuffle_idx].to_numpy(),y.iloc[shuffle_idx].to_numpy()"
      ],
      "metadata": {
        "id": "pF_RCjMl5bXL"
      },
      "execution_count": 8,
      "outputs": []
    },
    {
      "cell_type": "code",
      "source": [
        "X_train,x_test=X[shuffle_idx[:70]],X[shuffle_idx[70:]]\n",
        "y_train,y_test=y[shuffle_idx[:70]],y[shuffle_idx[70:]]"
      ],
      "metadata": {
        "id": "kxH_3BOmsAVJ"
      },
      "execution_count": 9,
      "outputs": []
    },
    {
      "cell_type": "code",
      "source": [
        "print(X_train.shape,x_test.shape)\n",
        "print(y_train.shape,y_test.shape)"
      ],
      "metadata": {
        "colab": {
          "base_uri": "https://localhost:8080/"
        },
        "id": "ivRstNKash80",
        "outputId": "07f65d93-f52a-4fc5-e03b-f20746a54b3b"
      },
      "execution_count": 10,
      "outputs": [
        {
          "output_type": "stream",
          "name": "stdout",
          "text": [
            "(70, 2) (29, 2)\n",
            "(70,) (29,)\n"
          ]
        }
      ]
    },
    {
      "cell_type": "code",
      "source": [
        "mu,sigma=X_train.mean(axis=0),X_train.std(axis=0)"
      ],
      "metadata": {
        "id": "RLlktk1rslia"
      },
      "execution_count": 11,
      "outputs": []
    },
    {
      "cell_type": "code",
      "source": [
        "X_train=(X_train-mu)/sigma\n",
        "x_test=(x_test-mu)/sigma"
      ],
      "metadata": {
        "id": "-5j7mACRtmxE"
      },
      "execution_count": 12,
      "outputs": []
    },
    {
      "cell_type": "code",
      "source": [
        "class Perceptron():\n",
        "  def __init__(self,num_features):\n",
        "    self.num_features=num_features\n",
        "    self.weights=np.zeros((num_features,1),dtype=float)\n",
        "    self.bias=np.zeros(1,dtype=float)\n",
        "\n",
        "  def forward(self,X):\n",
        "    z=np.dot(X,self.weights)+self.bias\n",
        "    return np.where(z>0,1,0)\n",
        "\n",
        "  def backward(self,X,y):\n",
        "    y_hat=self.forward(X)\n",
        "    err=(y-y_hat).reshape(-1)\n",
        "    return err\n",
        "\n",
        "\n",
        "  def train(self,X,y,epochs):\n",
        "    for epoch in range(epochs):\n",
        "      for i in range(X.shape[0]):\n",
        "        err=self.backward(X[i].reshape(1,self.num_features),y[i])\n",
        "        self.weights+=np.matmul(X[i].reshape(self.num_features,1),err.reshape(-1,1))\n",
        "        self.bias+=err\n",
        "\n",
        "  def evaluate(self,X,y):\n",
        "    y_hat=self.forward(X).reshape(-1)\n",
        "    accuracy=np.sum(y==y_hat)/y.shape[0]\n",
        "    return accuracy\n"
      ],
      "metadata": {
        "id": "njOdrCuRGcnL"
      },
      "execution_count": 20,
      "outputs": []
    },
    {
      "cell_type": "code",
      "source": [
        "perceptron=Perceptron(2)\n",
        "perceptron.train(X_train,y_train,5)\n",
        "accuracy=perceptron.evaluate(x_test,y_test)\n"
      ],
      "metadata": {
        "id": "1p8eqpiSNc-R"
      },
      "execution_count": 21,
      "outputs": []
    },
    {
      "cell_type": "code",
      "source": [
        "print(f\"accuracy {accuracy*100}\")"
      ],
      "metadata": {
        "colab": {
          "base_uri": "https://localhost:8080/"
        },
        "id": "VFNVGN8_NpJA",
        "outputId": "3b0a999a-cd9b-4f52-9624-4063d2893212"
      },
      "execution_count": 22,
      "outputs": [
        {
          "output_type": "stream",
          "name": "stdout",
          "text": [
            "accuracy 89.65517241379311\n"
          ]
        }
      ]
    },
    {
      "cell_type": "code",
      "source": [
        "weights=perceptron.weights\n",
        "bias=perceptron.bias"
      ],
      "metadata": {
        "id": "yQlLQPzKhmj2"
      },
      "execution_count": 23,
      "outputs": []
    },
    {
      "cell_type": "code",
      "source": [
        "weights,bias"
      ],
      "metadata": {
        "colab": {
          "base_uri": "https://localhost:8080/"
        },
        "id": "Mw8aWNHchnY1",
        "outputId": "f2307d31-ccff-4bd4-98a7-b6a3f79c5a01"
      },
      "execution_count": 24,
      "outputs": [
        {
          "output_type": "execute_result",
          "data": {
            "text/plain": [
              "(array([[1.45842958],\n",
              "        [2.24265395]]),\n",
              " array([0.]))"
            ]
          },
          "metadata": {},
          "execution_count": 24
        }
      ]
    },
    {
      "cell_type": "code",
      "source": [
        "\n",
        "\n",
        "# w1*X1 + w0*X0 +b = 0 => Decision Boundary\n",
        "\n",
        "X_train_min, X_train_max = X_train[:, 0].min(), X_train[:, 0].max()\n",
        "X_train_y_min, X_train_y_max = X_train[:, 1].min(), X_train[:, 1].max()\n",
        "\n",
        "X1_first_train = X_train_min\n",
        "X0_first_train = -(bias + (X1_first_train * weights[1])) / weights[0]\n",
        "\n",
        "X1_second_train = X_train_max\n",
        "X0_second_train = -(bias + (X1_second_train * weights[1])) / weights[0]\n",
        "\n",
        "plt.figure(figsize=(10, 5))\n",
        "\n",
        "plt.subplot(1, 2, 1)\n",
        "plt.plot([X0_first_train, X0_second_train], [X1_first_train, X1_second_train], color='blue', label='Decision Boundary')\n",
        "plt.scatter(X_train[y_train == 0, 0], X_train[y_train == 0, 1], label='Class 0', marker='o', color='red')\n",
        "plt.scatter(X_train[y_train == 1, 0], X_train[y_train == 1, 1], label='Class 1', marker='s', color='green')\n",
        "\n",
        "X_train_x_margin = (X_train_max - X_train_min) * 0.1\n",
        "X_train_y_margin = (X_train_y_max - X_train_y_min) * 0.1\n",
        "\n",
        "plt.xlim(X_train_min - X_train_x_margin, X_train_max + X_train_x_margin)\n",
        "plt.ylim(X_train_y_min - X_train_y_margin, X_train_y_max + X_train_y_margin)\n",
        "plt.xlabel('X0')\n",
        "plt.ylabel('X1')\n",
        "plt.title('Train Data - Decision Boundary')\n",
        "plt.legend()\n",
        "plt.grid(True)"
      ],
      "metadata": {
        "colab": {
          "base_uri": "https://localhost:8080/",
          "height": 487
        },
        "id": "DSQXwadcepil",
        "outputId": "2913fc20-b4a1-438c-d86e-5405e0ed3a83"
      },
      "execution_count": 25,
      "outputs": [
        {
          "output_type": "display_data",
          "data": {
            "text/plain": [
              "<Figure size 1000x500 with 1 Axes>"
            ],
            "image/png": "[encoded data removed]"
          },
          "metadata": {}
        }
      ]
    },
    {
      "cell_type": "code",
      "source": [
        "X_test_min, X_test_max = x_test[:, 0].min(), x_test[:, 0].max()\n",
        "X_test_y_min, X_test_y_max = x_test[:, 1].min(), x_test[:, 1].max()\n",
        "\n",
        "X1_first_test = X_test_min\n",
        "X0_first_test = -(bias + (X1_first_test * weights[1])) / weights[0]\n",
        "\n",
        "X1_second_test = X_test_max\n",
        "X0_second_test = -(bias + (X1_second_test * weights[1])) / weights[0]\n",
        "\n",
        "# Test plot\n",
        "plt.subplot(1, 2, 2)\n",
        "plt.plot([X0_first_test, X0_second_test], [X1_first_test, X1_second_test], color='blue', label='Decision Boundary')\n",
        "plt.scatter(x_test[y_test == 0, 0], x_test[y_test == 0, 1], label='Class 0', marker='o', color='red')\n",
        "plt.scatter(x_test[y_test == 1, 0], x_test[y_test == 1, 1], label='Class 1', marker='s', color='green')\n",
        "\n",
        "X_test_x_margin = (X_test_max - X_test_min) * 0.1\n",
        "X_test_y_margin = (X_test_y_max - X_test_y_min) * 0.1\n",
        "\n",
        "plt.xlim(X_test_min - X_test_x_margin, X_test_max + X_test_x_margin)\n",
        "plt.ylim(X_test_y_min - X_test_y_margin, X_test_y_max + X_test_y_margin)\n",
        "plt.xlabel('X0')\n",
        "plt.ylabel('X1')\n",
        "plt.title('Test Data - Decision Boundary')\n",
        "plt.legend()\n",
        "plt.grid(True)\n",
        "\n",
        "plt.tight_layout()\n",
        "plt.show()"
      ],
      "metadata": {
        "colab": {
          "base_uri": "https://localhost:8080/",
          "height": 487
        },
        "id": "O2gIzkPziDs3",
        "outputId": "fbf140d0-1775-4307-e084-06670a1a4042"
      },
      "execution_count": 26,
      "outputs": [
        {
          "output_type": "display_data",
          "data": {
            "text/plain": [
              "<Figure size 640x480 with 1 Axes>"
            ],
            "image/png": "[encoded data removed]"
          },
          "metadata": {}
        }
      ]
    },
    {
      "cell_type": "code",
      "source": [],
      "metadata": {
        "id": "WCSGB267lDn8"
      },
      "execution_count": 26,
      "outputs": []
    }
  ]
}